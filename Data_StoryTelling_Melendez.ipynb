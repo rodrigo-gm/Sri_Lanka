{
  "nbformat": 4,
  "nbformat_minor": 0,
  "metadata": {
    "colab": {
      "provenance": [],
      "collapsed_sections": [
        "-srkAtRPB8n9",
        "CjvwJuMY0y0U"
      ]
    },
    "kernelspec": {
      "name": "python3",
      "display_name": "Python 3"
    },
    "language_info": {
      "name": "python"
    }
  },
  "cells": [
    {
      "cell_type": "markdown",
      "source": [
        "#[Sri Lanka Vehicle Prices Dataset](https://www.kaggle.com/datasets/lasaljaywardena/sri-lanka-vehicle-prices-dataset)"
      ],
      "metadata": {
        "id": "-srkAtRPB8n9"
      }
    },
    {
      "cell_type": "markdown",
      "source": [
        "El presente trabajo es un análisis en base a un dataset que contiene el registro de ofertas sobre vehículos en el país de Sri Lanka, en la región de Ásia del Sur.\n",
        "\\\n",
        "\\\n",
        "Primeramente se hacen las siguientes observaciones sobre el dataset y el porqué de su uso:\n",
        "- Contiene un amplio registro de datos, con dicha cantidad es posible crear un analisis relevante para el país de Sri lanka puesto que contiene información sobre todo el país en general o las principales ciudades de dicho país.\n",
        "- Su tópico es de interés general puesto que habla sobre la venta de vehículos usados lo cual ya sea para la venta de vehículos o la compra de estos es algo que a la población en general (de cualquier país) le es de interes.\n",
        "- Contiene un registro reciente o actualizado sobre el precio de vehículos hasta el año 2021.\n",
        "- Los parametros que contiene son lo suficientemente específicos para poder hacer el análisis requerido en los objetivos que posteriormente se plantean.\n",
        "\\\n",
        "\\\n",
        "Como se puede observar en lo anteriormente dicho, la población a la que va dirigido este análisis es hacia individuos que quieran comprar un vehículo usado o que quieran vender su propio vehículo en Sri Lanka, con el fin de poder establecer un estandar del precio al que se puede ofertar dicho vehículo.\n",
        "\\\n",
        "\\\n",
        "En general lo que se busca es establecer un esquema o modelo que pueda ser empleado no solo en este dataset, sino con cualquier tipo de dataset de la misma índole. Poder implementar los conocimientos adquiridos en las clases y crear evaluaciones de interes para llegar a encontrar información relevante en los datos que se están analizando.\n"
      ],
      "metadata": {
        "id": "imCn0ZgS1PTB"
      }
    },
    {
      "cell_type": "markdown",
      "source": [
        "## Definición de Objetivo\n",
        "El objetivo, a largo plazo, es llegar a establecer un esquema de precios para vehículos usados en Sri Lanka, en base a características como son la marca, el año, el tipo del vehículo; así como responder preguntas de interes como:\n",
        "\n",
        "- ¿Que carro se esta publicando más?\n",
        "- ¿Como va el mercado de las camionetas?\n",
        "- ¿Sera que la marca que más vende puede ser desplazada?\n",
        "\n",
        "y poder extrapolar esta información al mercado en general.\n",
        "\\\n",
        "\\\n",
        "Como primer acercamiento se establecerán las bases de factores con mayor influencia en el precio de un vehículo así como parámetros que permitan conocer el tipo de mercado que se tiene."
      ],
      "metadata": {
        "id": "7m1moelWh5Bg"
      }
    },
    {
      "cell_type": "markdown",
      "source": [
        "## Contexto Comercial\n",
        "Los datos empleados para la elaboración de este análsis fueron tomados de [Sri Lanka Vehicle Prices Dataset](https://www.kaggle.com/datasets/lasaljaywardena/sri-lanka-vehicle-prices-dataset), en el año 2021, los cuales son extraidos de la plataforma de compra y venta de autos más famosa de Sri Lanka: [Ikman.lk](https://ikman.lk).\n",
        "\\\n",
        "\\\n",
        "Cabe recalcar que Ikman es una plataforma no solo de venta de vehículos, sino que cualquier persona o empresa que lo desee puede publicar su anuncio de venta sobre algún producto o servicio, así como de ofertas de empleo, venta de propiedades entre otras cosas.\n",
        "\\\n",
        "\\\n",
        "En resumen los datos con los que se trabaja son ofertas de venta de vehículos que gente particular, en su mayoría, ha publicado en el sitio."
      ],
      "metadata": {
        "id": "Z6Cm6FF8iIPj"
      }
    },
    {
      "cell_type": "markdown",
      "source": [
        "## Problema Comercial\n",
        "Mucha gente al querer vender un vehículo tiene las preguntas: ¿Qué precio es razonable para este vehículo? (esto aplica tanto a para comprar como vender) ¿Este vehículo se podrá vender? (en el contexto de si alguien estaría interesado en la compra de este vehículo).\n",
        "\n",
        "En si, dadas ciertas condiciones, el precio que se le puede dar a un vehículo en venta. Para ello, lo que se buscará es determinar la tendencia en los precios de venta de los vehículos, para así poder dar un estimado del precio al que se puede ofertar un vehículo."
      ],
      "metadata": {
        "id": "82QA09jLUWwn"
      }
    },
    {
      "cell_type": "markdown",
      "source": [
        "##Contexto Analítico\n",
        "En esta parte se presentará el contenido del dataset y se depurará para poder realizar el análisis exploratorio de los datos."
      ],
      "metadata": {
        "id": "EOWKlP0EXZr-"
      }
    },
    {
      "cell_type": "markdown",
      "source": [
        "Se importan las librerías que se emplearán en todo el trabajo:"
      ],
      "metadata": {
        "id": "Fma3UIdhXvks"
      }
    },
    {
      "cell_type": "code",
      "execution_count": 1,
      "metadata": {
        "id": "c-03IeKCjhQU"
      },
      "outputs": [],
      "source": [
        "import pandas as pd\n",
        "import matplotlib.pyplot as plt\n",
        "import seaborn as sns\n",
        "import numpy as np\n",
        "import math"
      ]
    },
    {
      "cell_type": "markdown",
      "source": [
        "Se carga el dataset y se examinan las columnas que contiene"
      ],
      "metadata": {
        "id": "zqxvJb_PbDPh"
      }
    },
    {
      "cell_type": "code",
      "source": [
        "df1 = pd.read_csv('/content/drive/MyDrive/Evaluaciones/Datasets/vehicle_data.csv')\n",
        "df1.info()"
      ],
      "metadata": {
        "colab": {
          "base_uri": "https://localhost:8080/"
        },
        "id": "_XN4hMqJbB_4",
        "outputId": "2279b8e4-2595-4e22-848c-e77297d4c357"
      },
      "execution_count": 2,
      "outputs": [
        {
          "output_type": "stream",
          "name": "stderr",
          "text": [
            "<ipython-input-2-e0e3ed72b7cc>:1: DtypeWarning: Columns (5) have mixed types. Specify dtype option on import or set low_memory=False.\n",
            "  df1 = pd.read_csv('/content/drive/MyDrive/Evaluaciones/Datasets/vehicle_data.csv')\n"
          ]
        },
        {
          "output_type": "stream",
          "name": "stdout",
          "text": [
            "<class 'pandas.core.frame.DataFrame'>\n",
            "RangeIndex: 123971 entries, 0 to 123970\n",
            "Data columns (total 19 columns):\n",
            " #   Column          Non-Null Count   Dtype \n",
            "---  ------          --------------   ----- \n",
            " 0   Title           123971 non-null  object\n",
            " 1   Sub_title       123971 non-null  object\n",
            " 2   Price           123971 non-null  object\n",
            " 3   Brand           123971 non-null  object\n",
            " 4   Model           123970 non-null  object\n",
            " 5   Edition         47538 non-null   object\n",
            " 6   Year            123971 non-null  int64 \n",
            " 7   Condition       123971 non-null  object\n",
            " 8   Transmission    123970 non-null  object\n",
            " 9   Body            118876 non-null  object\n",
            " 10  Fuel            123971 non-null  object\n",
            " 11  Capacity        123766 non-null  object\n",
            " 12  Mileage         123971 non-null  object\n",
            " 13  Location        123971 non-null  object\n",
            " 14  Description     107797 non-null  object\n",
            " 15  Post_URL        123971 non-null  object\n",
            " 16  Seller_name     123873 non-null  object\n",
            " 17  Seller_type     123971 non-null  object\n",
            " 18  published_date  123971 non-null  object\n",
            "dtypes: int64(1), object(18)\n",
            "memory usage: 18.0+ MB\n"
          ]
        }
      ]
    },
    {
      "cell_type": "markdown",
      "source": [
        "El dataset consta de 19 columnas y 123,971 filas:"
      ],
      "metadata": {
        "id": "VUKgxIa1bds5"
      }
    },
    {
      "cell_type": "code",
      "source": [
        "print(\"Filas:\",df1.shape[0],\"\\nColumnas:\",df1.shape[1])"
      ],
      "metadata": {
        "colab": {
          "base_uri": "https://localhost:8080/"
        },
        "id": "G2EGy2Libdch",
        "outputId": "ecad2332-f809-47c2-a7db-dee671587afb"
      },
      "execution_count": 3,
      "outputs": [
        {
          "output_type": "stream",
          "name": "stdout",
          "text": [
            "Filas: 123971 \n",
            "Columnas: 19\n"
          ]
        }
      ]
    },
    {
      "cell_type": "markdown",
      "source": [
        "En este caso se procederá a evaluar cuales son las columnas más relevanes para el dataset tales que tienen un mayor impacto o influencia en el precio de venta de un vehículo usado, esto se logrará empleando un feature selection.\n",
        "\n",
        "Primero se trabajarán las columnas para que puedan ser procesadas"
      ],
      "metadata": {
        "id": "QDG40oeJbpIA"
      }
    },
    {
      "cell_type": "code",
      "source": [
        "# df1 = pd.read_csv('/content/drive/MyDrive/Evaluaciones/Datasets/vehicle_data.csv')\n",
        "# vehicle =df1[['Price','Brand','Model','Year','Condition','Mileage','Location']]\n",
        "df1.head()"
      ],
      "metadata": {
        "colab": {
          "base_uri": "https://localhost:8080/",
          "height": 0
        },
        "id": "hAkMJoj2rgS-",
        "outputId": "25fae1ba-87c3-4c1a-863c-c31b48899693"
      },
      "execution_count": 4,
      "outputs": [
        {
          "output_type": "execute_result",
          "data": {
            "text/plain": [
              "                                      Title  \\\n",
              "0         Honda Vezel Limited 2017 for sale   \n",
              "1      Jaguar XF Fully Loaded 2013 for sale   \n",
              "2  Toyota CHR GT New Face 2wd 2020 for sale   \n",
              "3           Toyota CHR Toyato 2017 for sale   \n",
              "4   Toyota Land Cruiser Prado 2015 for sale   \n",
              "\n",
              "                                           Sub_title          Price   Brand  \\\n",
              "0  Posted on 01 Sep 2:45 pm, Kurunegala City, Kur...  Rs 12,900,000   Honda   \n",
              "1  Posted on 28 Sep 10:23 am, Kurunegala City, Ku...  Rs 16,250,000  Jaguar   \n",
              "2       Posted on 16 Sep 1:16 pm, Colombo 7, Colombo  Rs 17,000,000  Toyota   \n",
              "3      Posted on 30 Sep 10:12 am, Colombo 7, Colombo  Rs 13,000,000  Toyota   \n",
              "4        Posted on 30 Sep 9:50 pm, Kelaniya, Gampaha  Rs 33,500,000  Toyota   \n",
              "\n",
              "                Model          Edition  Year Condition Transmission  \\\n",
              "0               Vezel          Limited  2017      Used    Automatic   \n",
              "1                  XF     Fully Loaded  2013      Used    Automatic   \n",
              "2                 CHR  GT New Face 2wd  2020      Used    Automatic   \n",
              "3                 CHR           Toyato  2017      Used    Automatic   \n",
              "4  Land Cruiser Prado            prado  2015      Used    Automatic   \n",
              "\n",
              "        Body    Fuel  Capacity    Mileage                       Location  \\\n",
              "0  SUV / 4x4  Hybrid  1,500 cc  37,000 km   Kurunegala City,  Kurunegala   \n",
              "1     Saloon  Diesel  2,200 cc  42,000 km   Kurunegala City,  Kurunegala   \n",
              "2  SUV / 4x4  Petrol  1,200 cc  15,000 km            Colombo 7,  Colombo   \n",
              "3  SUV / 4x4  Petrol  1,200 cc  21,000 km            Colombo 7,  Colombo   \n",
              "4  SUV / 4x4  Petrol  2,700 cc  57,000 km             Kelaniya,  Gampaha   \n",
              "\n",
              "                                         Description  \\\n",
              "0  HONDA VEZEL LIMITEDCBE-XXXXMANU YEAR : 2017LIM...   \n",
              "1  1st owner(registered owner)Diesel(13-14km per ...   \n",
              "2  2020 Facelift modelFirst owner (No previous ow...   \n",
              "3  Toyota CHR GT Turbo1st owner Imported as a bra...   \n",
              "4  Toyota Land Cruiser Prado 20152 nd Owner for 5...   \n",
              "\n",
              "                                            Post_URL          Seller_name  \\\n",
              "0  https://ikman.lk/en/ad/honda-vezel-limited-201...   Prasad Enterprises   \n",
              "1  https://ikman.lk/en/ad/jaguar-xf-fully-loaded-...  Dhanushka Dharmasri   \n",
              "2  https://ikman.lk/en/ad/toyota-chr-gt-new-face-...        Carzone Lanka   \n",
              "3  https://ikman.lk/en/ad/toyota-chr-toyato-2017-...        Carzone Lanka   \n",
              "4  https://ikman.lk/en/ad/toyota-land-cruiser-pra...   Shine Music Center   \n",
              "\n",
              "      Seller_type       published_date  \n",
              "0  Premium-Member  2022-09-01 14:45:00  \n",
              "1          Member  2022-09-28 10:23:00  \n",
              "2          Member  2022-09-16 13:16:00  \n",
              "3          Member  2022-09-30 10:12:00  \n",
              "4          Member  2022-09-30 21:50:00  "
            ],
            "text/html": [
              "\n",
              "  <div id=\"df-04882c5f-e3c6-4ef9-b36e-248faf8fb7f5\">\n",
              "    <div class=\"colab-df-container\">\n",
              "      <div>\n",
              "<style scoped>\n",
              "    .dataframe tbody tr th:only-of-type {\n",
              "        vertical-align: middle;\n",
              "    }\n",
              "\n",
              "    .dataframe tbody tr th {\n",
              "        vertical-align: top;\n",
              "    }\n",
              "\n",
              "    .dataframe thead th {\n",
              "        text-align: right;\n",
              "    }\n",
              "</style>\n",
              "<table border=\"1\" class=\"dataframe\">\n",
              "  <thead>\n",
              "    <tr style=\"text-align: right;\">\n",
              "      <th></th>\n",
              "      <th>Title</th>\n",
              "      <th>Sub_title</th>\n",
              "      <th>Price</th>\n",
              "      <th>Brand</th>\n",
              "      <th>Model</th>\n",
              "      <th>Edition</th>\n",
              "      <th>Year</th>\n",
              "      <th>Condition</th>\n",
              "      <th>Transmission</th>\n",
              "      <th>Body</th>\n",
              "      <th>Fuel</th>\n",
              "      <th>Capacity</th>\n",
              "      <th>Mileage</th>\n",
              "      <th>Location</th>\n",
              "      <th>Description</th>\n",
              "      <th>Post_URL</th>\n",
              "      <th>Seller_name</th>\n",
              "      <th>Seller_type</th>\n",
              "      <th>published_date</th>\n",
              "    </tr>\n",
              "  </thead>\n",
              "  <tbody>\n",
              "    <tr>\n",
              "      <th>0</th>\n",
              "      <td>Honda Vezel Limited 2017 for sale</td>\n",
              "      <td>Posted on 01 Sep 2:45 pm, Kurunegala City, Kur...</td>\n",
              "      <td>Rs 12,900,000</td>\n",
              "      <td>Honda</td>\n",
              "      <td>Vezel</td>\n",
              "      <td>Limited</td>\n",
              "      <td>2017</td>\n",
              "      <td>Used</td>\n",
              "      <td>Automatic</td>\n",
              "      <td>SUV / 4x4</td>\n",
              "      <td>Hybrid</td>\n",
              "      <td>1,500 cc</td>\n",
              "      <td>37,000 km</td>\n",
              "      <td>Kurunegala City,  Kurunegala</td>\n",
              "      <td>HONDA VEZEL LIMITEDCBE-XXXXMANU YEAR : 2017LIM...</td>\n",
              "      <td>https://ikman.lk/en/ad/honda-vezel-limited-201...</td>\n",
              "      <td>Prasad Enterprises</td>\n",
              "      <td>Premium-Member</td>\n",
              "      <td>2022-09-01 14:45:00</td>\n",
              "    </tr>\n",
              "    <tr>\n",
              "      <th>1</th>\n",
              "      <td>Jaguar XF Fully Loaded 2013 for sale</td>\n",
              "      <td>Posted on 28 Sep 10:23 am, Kurunegala City, Ku...</td>\n",
              "      <td>Rs 16,250,000</td>\n",
              "      <td>Jaguar</td>\n",
              "      <td>XF</td>\n",
              "      <td>Fully Loaded</td>\n",
              "      <td>2013</td>\n",
              "      <td>Used</td>\n",
              "      <td>Automatic</td>\n",
              "      <td>Saloon</td>\n",
              "      <td>Diesel</td>\n",
              "      <td>2,200 cc</td>\n",
              "      <td>42,000 km</td>\n",
              "      <td>Kurunegala City,  Kurunegala</td>\n",
              "      <td>1st owner(registered owner)Diesel(13-14km per ...</td>\n",
              "      <td>https://ikman.lk/en/ad/jaguar-xf-fully-loaded-...</td>\n",
              "      <td>Dhanushka Dharmasri</td>\n",
              "      <td>Member</td>\n",
              "      <td>2022-09-28 10:23:00</td>\n",
              "    </tr>\n",
              "    <tr>\n",
              "      <th>2</th>\n",
              "      <td>Toyota CHR GT New Face 2wd 2020 for sale</td>\n",
              "      <td>Posted on 16 Sep 1:16 pm, Colombo 7, Colombo</td>\n",
              "      <td>Rs 17,000,000</td>\n",
              "      <td>Toyota</td>\n",
              "      <td>CHR</td>\n",
              "      <td>GT New Face 2wd</td>\n",
              "      <td>2020</td>\n",
              "      <td>Used</td>\n",
              "      <td>Automatic</td>\n",
              "      <td>SUV / 4x4</td>\n",
              "      <td>Petrol</td>\n",
              "      <td>1,200 cc</td>\n",
              "      <td>15,000 km</td>\n",
              "      <td>Colombo 7,  Colombo</td>\n",
              "      <td>2020 Facelift modelFirst owner (No previous ow...</td>\n",
              "      <td>https://ikman.lk/en/ad/toyota-chr-gt-new-face-...</td>\n",
              "      <td>Carzone Lanka</td>\n",
              "      <td>Member</td>\n",
              "      <td>2022-09-16 13:16:00</td>\n",
              "    </tr>\n",
              "    <tr>\n",
              "      <th>3</th>\n",
              "      <td>Toyota CHR Toyato 2017 for sale</td>\n",
              "      <td>Posted on 30 Sep 10:12 am, Colombo 7, Colombo</td>\n",
              "      <td>Rs 13,000,000</td>\n",
              "      <td>Toyota</td>\n",
              "      <td>CHR</td>\n",
              "      <td>Toyato</td>\n",
              "      <td>2017</td>\n",
              "      <td>Used</td>\n",
              "      <td>Automatic</td>\n",
              "      <td>SUV / 4x4</td>\n",
              "      <td>Petrol</td>\n",
              "      <td>1,200 cc</td>\n",
              "      <td>21,000 km</td>\n",
              "      <td>Colombo 7,  Colombo</td>\n",
              "      <td>Toyota CHR GT Turbo1st owner Imported as a bra...</td>\n",
              "      <td>https://ikman.lk/en/ad/toyota-chr-toyato-2017-...</td>\n",
              "      <td>Carzone Lanka</td>\n",
              "      <td>Member</td>\n",
              "      <td>2022-09-30 10:12:00</td>\n",
              "    </tr>\n",
              "    <tr>\n",
              "      <th>4</th>\n",
              "      <td>Toyota Land Cruiser Prado 2015 for sale</td>\n",
              "      <td>Posted on 30 Sep 9:50 pm, Kelaniya, Gampaha</td>\n",
              "      <td>Rs 33,500,000</td>\n",
              "      <td>Toyota</td>\n",
              "      <td>Land Cruiser Prado</td>\n",
              "      <td>prado</td>\n",
              "      <td>2015</td>\n",
              "      <td>Used</td>\n",
              "      <td>Automatic</td>\n",
              "      <td>SUV / 4x4</td>\n",
              "      <td>Petrol</td>\n",
              "      <td>2,700 cc</td>\n",
              "      <td>57,000 km</td>\n",
              "      <td>Kelaniya,  Gampaha</td>\n",
              "      <td>Toyota Land Cruiser Prado 20152 nd Owner for 5...</td>\n",
              "      <td>https://ikman.lk/en/ad/toyota-land-cruiser-pra...</td>\n",
              "      <td>Shine Music Center</td>\n",
              "      <td>Member</td>\n",
              "      <td>2022-09-30 21:50:00</td>\n",
              "    </tr>\n",
              "  </tbody>\n",
              "</table>\n",
              "</div>\n",
              "      <button class=\"colab-df-convert\" onclick=\"convertToInteractive('df-04882c5f-e3c6-4ef9-b36e-248faf8fb7f5')\"\n",
              "              title=\"Convert this dataframe to an interactive table.\"\n",
              "              style=\"display:none;\">\n",
              "        \n",
              "  <svg xmlns=\"http://www.w3.org/2000/svg\" height=\"24px\"viewBox=\"0 0 24 24\"\n",
              "       width=\"24px\">\n",
              "    <path d=\"M0 0h24v24H0V0z\" fill=\"none\"/>\n",
              "    <path d=\"M18.56 5.44l.94 2.06.94-2.06 2.06-.94-2.06-.94-.94-2.06-.94 2.06-2.06.94zm-11 1L8.5 8.5l.94-2.06 2.06-.94-2.06-.94L8.5 2.5l-.94 2.06-2.06.94zm10 10l.94 2.06.94-2.06 2.06-.94-2.06-.94-.94-2.06-.94 2.06-2.06.94z\"/><path d=\"M17.41 7.96l-1.37-1.37c-.4-.4-.92-.59-1.43-.59-.52 0-1.04.2-1.43.59L10.3 9.45l-7.72 7.72c-.78.78-.78 2.05 0 2.83L4 21.41c.39.39.9.59 1.41.59.51 0 1.02-.2 1.41-.59l7.78-7.78 2.81-2.81c.8-.78.8-2.07 0-2.86zM5.41 20L4 18.59l7.72-7.72 1.47 1.35L5.41 20z\"/>\n",
              "  </svg>\n",
              "      </button>\n",
              "      \n",
              "  <style>\n",
              "    .colab-df-container {\n",
              "      display:flex;\n",
              "      flex-wrap:wrap;\n",
              "      gap: 12px;\n",
              "    }\n",
              "\n",
              "    .colab-df-convert {\n",
              "      background-color: #E8F0FE;\n",
              "      border: none;\n",
              "      border-radius: 50%;\n",
              "      cursor: pointer;\n",
              "      display: none;\n",
              "      fill: #1967D2;\n",
              "      height: 32px;\n",
              "      padding: 0 0 0 0;\n",
              "      width: 32px;\n",
              "    }\n",
              "\n",
              "    .colab-df-convert:hover {\n",
              "      background-color: #E2EBFA;\n",
              "      box-shadow: 0px 1px 2px rgba(60, 64, 67, 0.3), 0px 1px 3px 1px rgba(60, 64, 67, 0.15);\n",
              "      fill: #174EA6;\n",
              "    }\n",
              "\n",
              "    [theme=dark] .colab-df-convert {\n",
              "      background-color: #3B4455;\n",
              "      fill: #D2E3FC;\n",
              "    }\n",
              "\n",
              "    [theme=dark] .colab-df-convert:hover {\n",
              "      background-color: #434B5C;\n",
              "      box-shadow: 0px 1px 3px 1px rgba(0, 0, 0, 0.15);\n",
              "      filter: drop-shadow(0px 1px 2px rgba(0, 0, 0, 0.3));\n",
              "      fill: #FFFFFF;\n",
              "    }\n",
              "  </style>\n",
              "\n",
              "      <script>\n",
              "        const buttonEl =\n",
              "          document.querySelector('#df-04882c5f-e3c6-4ef9-b36e-248faf8fb7f5 button.colab-df-convert');\n",
              "        buttonEl.style.display =\n",
              "          google.colab.kernel.accessAllowed ? 'block' : 'none';\n",
              "\n",
              "        async function convertToInteractive(key) {\n",
              "          const element = document.querySelector('#df-04882c5f-e3c6-4ef9-b36e-248faf8fb7f5');\n",
              "          const dataTable =\n",
              "            await google.colab.kernel.invokeFunction('convertToInteractive',\n",
              "                                                     [key], {});\n",
              "          if (!dataTable) return;\n",
              "\n",
              "          const docLinkHtml = 'Like what you see? Visit the ' +\n",
              "            '<a target=\"_blank\" href=https://colab.research.google.com/notebooks/data_table.ipynb>data table notebook</a>'\n",
              "            + ' to learn more about interactive tables.';\n",
              "          element.innerHTML = '';\n",
              "          dataTable['output_type'] = 'display_data';\n",
              "          await google.colab.output.renderOutput(dataTable, element);\n",
              "          const docLink = document.createElement('div');\n",
              "          docLink.innerHTML = docLinkHtml;\n",
              "          element.appendChild(docLink);\n",
              "        }\n",
              "      </script>\n",
              "    </div>\n",
              "  </div>\n",
              "  "
            ]
          },
          "metadata": {},
          "execution_count": 4
        }
      ]
    },
    {
      "cell_type": "markdown",
      "source": [
        "Realizando una limpieza previa."
      ],
      "metadata": {
        "id": "UpSqW8fheAZW"
      }
    },
    {
      "cell_type": "markdown",
      "source": [
        "###Limpieza previa del Dataset"
      ],
      "metadata": {
        "id": "CjvwJuMY0y0U"
      }
    },
    {
      "cell_type": "markdown",
      "source": [
        "Para esta parte se trabajaran las columnas del dataset para que haya mayor consistencia a la hora de realizar el feature selecction, así como se removerán algunas antes de este proceso como lo son ```Title```, ```Sub_title```, ```Description```, ```Post_URL```, ```Seller_name```, ```Seller_type``` y ```published_date``` dado que no proveen información relevante o notoria que pueda emplearse de manera efectiva para el proceso del análisis."
      ],
      "metadata": {
        "id": "4CHpHL09PHpe"
      }
    },
    {
      "cell_type": "code",
      "source": [
        "vehicle=df1[[\"Price\",\"Brand\",\"Model\",\"Edition\",\"Year\" ,\"Condition\",\"Transmission\",\"Body\",\"Fuel\",\"Capacity\",\"Mileage\",\"Location\"]]\n"
      ],
      "metadata": {
        "id": "3QKk-RWTQIyn"
      },
      "execution_count": 5,
      "outputs": []
    },
    {
      "cell_type": "markdown",
      "source": [
        "Procediendo con ```Condition```, se tiene que 'Reconditioned' y 'Recondition' indican que el auto ha sido recondicionado por la empresa, mientras que 'Used' y 'e' han sido empleados para indicar que la condición del vehículo es usado como se presenta a continuación:"
      ],
      "metadata": {
        "id": "4djntx7sHw5F"
      }
    },
    {
      "cell_type": "code",
      "source": [
        "vehicle['Condition'].value_counts()"
      ],
      "metadata": {
        "colab": {
          "base_uri": "https://localhost:8080/"
        },
        "id": "WEiFa2LlYYNj",
        "outputId": "e32d513c-1b36-4d4c-caff-de1d4aad3643"
      },
      "execution_count": 6,
      "outputs": [
        {
          "output_type": "execute_result",
          "data": {
            "text/plain": [
              "Used             120207\n",
              "Reconditioned      1465\n",
              "Recondition        1076\n",
              "e                   617\n",
              "New                 606\n",
              "Name: Condition, dtype: int64"
            ]
          },
          "metadata": {},
          "execution_count": 6
        }
      ]
    },
    {
      "cell_type": "code",
      "source": [
        "# Se modifican las palabras que llevan \"e\" para evitar errores de modificarlas al renombrar la categoría \"e\" en la columna Condition\n",
        "vehicle['Condition']=vehicle['Condition'].str.replace('New','Now')\n",
        "vehicle['Condition']=vehicle['Condition'].str.replace('Reconditioned','Raconditionad') # Se renombran las categorias \"Reconditioned\" y \"Recondition\" con el mismo nombre para unir estas categorías\n",
        "vehicle['Condition']=vehicle['Condition'].str.replace('Recondition','Raconditionad')\n",
        "vehicle['Condition']=vehicle['Condition'].str.replace('Used','Usad')\n",
        "# Una vez modificadas las categorías para que no tengan la letra \"e\", se modifica la categoría \"e\"\n",
        "vehicle['Condition']=vehicle['Condition'].str.replace('e','Usad')\n",
        "# Una vez modificadas las categorías se reescriben con los nombres que les corresponden\n",
        "vehicle['Condition']=vehicle['Condition'].str.replace('Now','New')\n",
        "vehicle['Condition']=vehicle['Condition'].str.replace('Raconditionad','Reconditioned')\n",
        "vehicle['Condition']=vehicle['Condition'].str.replace('Usad','Used')"
      ],
      "metadata": {
        "id": "5IasNyJZbsHp",
        "colab": {
          "base_uri": "https://localhost:8080/"
        },
        "outputId": "a97d5f7b-362d-49fa-bc81-438b31fec132"
      },
      "execution_count": 7,
      "outputs": [
        {
          "output_type": "stream",
          "name": "stderr",
          "text": [
            "<ipython-input-7-f48634113073>:2: SettingWithCopyWarning: \n",
            "A value is trying to be set on a copy of a slice from a DataFrame.\n",
            "Try using .loc[row_indexer,col_indexer] = value instead\n",
            "\n",
            "See the caveats in the documentation: https://pandas.pydata.org/pandas-docs/stable/user_guide/indexing.html#returning-a-view-versus-a-copy\n",
            "  vehicle['Condition']=vehicle['Condition'].str.replace('New','Now')\n",
            "<ipython-input-7-f48634113073>:3: SettingWithCopyWarning: \n",
            "A value is trying to be set on a copy of a slice from a DataFrame.\n",
            "Try using .loc[row_indexer,col_indexer] = value instead\n",
            "\n",
            "See the caveats in the documentation: https://pandas.pydata.org/pandas-docs/stable/user_guide/indexing.html#returning-a-view-versus-a-copy\n",
            "  vehicle['Condition']=vehicle['Condition'].str.replace('Reconditioned','Raconditionad') # Se renombran las categorias \"Reconditioned\" y \"Recondition\" con el mismo nombre para unir estas categorías\n",
            "<ipython-input-7-f48634113073>:4: SettingWithCopyWarning: \n",
            "A value is trying to be set on a copy of a slice from a DataFrame.\n",
            "Try using .loc[row_indexer,col_indexer] = value instead\n",
            "\n",
            "See the caveats in the documentation: https://pandas.pydata.org/pandas-docs/stable/user_guide/indexing.html#returning-a-view-versus-a-copy\n",
            "  vehicle['Condition']=vehicle['Condition'].str.replace('Recondition','Raconditionad')\n",
            "<ipython-input-7-f48634113073>:5: SettingWithCopyWarning: \n",
            "A value is trying to be set on a copy of a slice from a DataFrame.\n",
            "Try using .loc[row_indexer,col_indexer] = value instead\n",
            "\n",
            "See the caveats in the documentation: https://pandas.pydata.org/pandas-docs/stable/user_guide/indexing.html#returning-a-view-versus-a-copy\n",
            "  vehicle['Condition']=vehicle['Condition'].str.replace('Used','Usad')\n",
            "<ipython-input-7-f48634113073>:7: SettingWithCopyWarning: \n",
            "A value is trying to be set on a copy of a slice from a DataFrame.\n",
            "Try using .loc[row_indexer,col_indexer] = value instead\n",
            "\n",
            "See the caveats in the documentation: https://pandas.pydata.org/pandas-docs/stable/user_guide/indexing.html#returning-a-view-versus-a-copy\n",
            "  vehicle['Condition']=vehicle['Condition'].str.replace('e','Usad')\n",
            "<ipython-input-7-f48634113073>:9: SettingWithCopyWarning: \n",
            "A value is trying to be set on a copy of a slice from a DataFrame.\n",
            "Try using .loc[row_indexer,col_indexer] = value instead\n",
            "\n",
            "See the caveats in the documentation: https://pandas.pydata.org/pandas-docs/stable/user_guide/indexing.html#returning-a-view-versus-a-copy\n",
            "  vehicle['Condition']=vehicle['Condition'].str.replace('Now','New')\n",
            "<ipython-input-7-f48634113073>:10: SettingWithCopyWarning: \n",
            "A value is trying to be set on a copy of a slice from a DataFrame.\n",
            "Try using .loc[row_indexer,col_indexer] = value instead\n",
            "\n",
            "See the caveats in the documentation: https://pandas.pydata.org/pandas-docs/stable/user_guide/indexing.html#returning-a-view-versus-a-copy\n",
            "  vehicle['Condition']=vehicle['Condition'].str.replace('Raconditionad','Reconditioned')\n",
            "<ipython-input-7-f48634113073>:11: SettingWithCopyWarning: \n",
            "A value is trying to be set on a copy of a slice from a DataFrame.\n",
            "Try using .loc[row_indexer,col_indexer] = value instead\n",
            "\n",
            "See the caveats in the documentation: https://pandas.pydata.org/pandas-docs/stable/user_guide/indexing.html#returning-a-view-versus-a-copy\n",
            "  vehicle['Condition']=vehicle['Condition'].str.replace('Usad','Used')\n"
          ]
        }
      ]
    },
    {
      "cell_type": "code",
      "source": [
        "vehicle['Condition'].value_counts()"
      ],
      "metadata": {
        "colab": {
          "base_uri": "https://localhost:8080/"
        },
        "id": "8GLPGWQhcYwC",
        "outputId": "34f2e49b-2f71-4e8e-f366-d276b9cbf10a"
      },
      "execution_count": 8,
      "outputs": [
        {
          "output_type": "execute_result",
          "data": {
            "text/plain": [
              "Used             120824\n",
              "Reconditioned      2541\n",
              "New                 606\n",
              "Name: Condition, dtype: int64"
            ]
          },
          "metadata": {},
          "execution_count": 8
        }
      ]
    },
    {
      "cell_type": "markdown",
      "source": [
        "Una vez reorganizadas las categorías en la columna ```Condition```, se procede a modificar el tipo de objeto de la columna ```Price```, para esto se removerán los caracteres y solo se dejarán los valores numéricos"
      ],
      "metadata": {
        "id": "TdqwUHHwKwIb"
      }
    },
    {
      "cell_type": "code",
      "source": [
        "vehicle['Price']=vehicle['Price'].str.replace('Rs','')\n",
        "vehicle['Price']=vehicle['Price'].str.replace(',','')\n",
        "vehicle['Price']=vehicle['Price'].str.replace('.','')\n",
        "vehicle['Price']=vehicle['Price'].str.replace(' ','')"
      ],
      "metadata": {
        "colab": {
          "base_uri": "https://localhost:8080/"
        },
        "id": "vL7iG3DN8_Vv",
        "outputId": "39b629f9-1c25-4fbb-8bce-ef62e85f78f7"
      },
      "execution_count": 9,
      "outputs": [
        {
          "output_type": "stream",
          "name": "stderr",
          "text": [
            "<ipython-input-9-0bb311862eea>:1: SettingWithCopyWarning: \n",
            "A value is trying to be set on a copy of a slice from a DataFrame.\n",
            "Try using .loc[row_indexer,col_indexer] = value instead\n",
            "\n",
            "See the caveats in the documentation: https://pandas.pydata.org/pandas-docs/stable/user_guide/indexing.html#returning-a-view-versus-a-copy\n",
            "  vehicle['Price']=vehicle['Price'].str.replace('Rs','')\n",
            "<ipython-input-9-0bb311862eea>:2: SettingWithCopyWarning: \n",
            "A value is trying to be set on a copy of a slice from a DataFrame.\n",
            "Try using .loc[row_indexer,col_indexer] = value instead\n",
            "\n",
            "See the caveats in the documentation: https://pandas.pydata.org/pandas-docs/stable/user_guide/indexing.html#returning-a-view-versus-a-copy\n",
            "  vehicle['Price']=vehicle['Price'].str.replace(',','')\n",
            "<ipython-input-9-0bb311862eea>:3: FutureWarning: The default value of regex will change from True to False in a future version. In addition, single character regular expressions will *not* be treated as literal strings when regex=True.\n",
            "  vehicle['Price']=vehicle['Price'].str.replace('.','')\n",
            "<ipython-input-9-0bb311862eea>:3: SettingWithCopyWarning: \n",
            "A value is trying to be set on a copy of a slice from a DataFrame.\n",
            "Try using .loc[row_indexer,col_indexer] = value instead\n",
            "\n",
            "See the caveats in the documentation: https://pandas.pydata.org/pandas-docs/stable/user_guide/indexing.html#returning-a-view-versus-a-copy\n",
            "  vehicle['Price']=vehicle['Price'].str.replace('.','')\n",
            "<ipython-input-9-0bb311862eea>:4: SettingWithCopyWarning: \n",
            "A value is trying to be set on a copy of a slice from a DataFrame.\n",
            "Try using .loc[row_indexer,col_indexer] = value instead\n",
            "\n",
            "See the caveats in the documentation: https://pandas.pydata.org/pandas-docs/stable/user_guide/indexing.html#returning-a-view-versus-a-copy\n",
            "  vehicle['Price']=vehicle['Price'].str.replace(' ','')\n"
          ]
        }
      ]
    },
    {
      "cell_type": "markdown",
      "source": [
        "Si bien ya se han removido los caracteres irrelevantes y dejado solo dígitos, hay una categoría que aun falta por modificar 'Negociable':"
      ],
      "metadata": {
        "id": "JJyAUSuxLcNM"
      }
    },
    {
      "cell_type": "code",
      "source": [
        "vehicle[\"Price\"].value_counts()"
      ],
      "metadata": {
        "colab": {
          "base_uri": "https://localhost:8080/"
        },
        "id": "vODMRJwHM4SE",
        "outputId": "2227719c-3cf6-478f-9fbd-173d221322a5"
      },
      "execution_count": 10,
      "outputs": [
        {
          "output_type": "execute_result",
          "data": {
            "text/plain": [
              "Negotiable    5515\n",
              "5500000        632\n",
              "6500000        624\n",
              "7500000        496\n",
              "8500000        492\n",
              "              ... \n",
              "6445000          1\n",
              "20250000         1\n",
              "9960000          1\n",
              "15625000         1\n",
              "130000000        1\n",
              "Name: Price, Length: 3575, dtype: int64"
            ]
          },
          "metadata": {},
          "execution_count": 10
        }
      ]
    },
    {
      "cell_type": "markdown",
      "source": [
        "Por el momento no se tocará la categoría Negotiable, posteriormente se decidirá qué conviene hacer con ella. Pero para esta entrega se creó una copia del dataframe en el que no se toma en consideración la categoria Negotiable y simplemente se ignoraron.\n"
      ],
      "metadata": {
        "id": "6UzY7tuijbbg"
      }
    },
    {
      "cell_type": "markdown",
      "source": [
        "En la columna ```Location``` no hay consistencia en los datos, puesto que algunos escribieron la ciudad y el distrito o solo la ciudad, por ello se procederá a aplicar un formato en el que solo se considere el distrito, o al menos en su mayoría sea así: "
      ],
      "metadata": {
        "id": "owJ4Aj8tMWqB"
      }
    },
    {
      "cell_type": "code",
      "source": [
        "vehicle[\"Location\"].value_counts() #Muestra de la inconsistencia de los datos, 328 datos y solo 24 distritos existentes"
      ],
      "metadata": {
        "colab": {
          "base_uri": "https://localhost:8080/"
        },
        "id": "tiBGrFaqKeSZ",
        "outputId": "e6357419-81dc-40d4-f5d8-7e8a903f652a"
      },
      "execution_count": 11,
      "outputs": [
        {
          "output_type": "execute_result",
          "data": {
            "text/plain": [
              " Colombo                   5698\n",
              " Kurunegala                4674\n",
              " Gampaha                   4364\n",
              " Kohuwala,  Colombo        4362\n",
              " Kandy                     4246\n",
              "                           ... \n",
              " Keselwatta                   2\n",
              " Mannar,  Mannar              2\n",
              " Mullativu,  Mullativu        1\n",
              " Sigiriya,  Matale            1\n",
              " Madulla,  Nuwara Eliya       1\n",
              "Name: Location, Length: 328, dtype: int64"
            ]
          },
          "metadata": {},
          "execution_count": 11
        }
      ]
    },
    {
      "cell_type": "code",
      "source": [
        "# El listado se usará para entrega posterior\n",
        "# listado = [\"Kandy\",\"Matale\",\"Nuwara Eliya\",\"Trincomalee\",\"Ampara\",\"Batticaloa\",\"Anuradhapura\",\"Polonnaruwa\",\"Kurunegala\",\"Puttalam\",\"Jaffna\",\"Kilinochchi\",\"Mannar\",\"Mullaitivu\",\"Vavuniya\",\"Ratnapura\",\"Kegalle\",\"Galle\",\"Hambantota\",\"Matara\",\"Badulla\",\"Moneragala\",\"Colombo\",\"Gampaha\",\"Kalutara\"]\n",
        "prueba=vehicle.copy() # se copia el dataset para verificar la eficacia del proceso\n"
      ],
      "metadata": {
        "id": "BNmfBLpxETTh"
      },
      "execution_count": 12,
      "outputs": []
    },
    {
      "cell_type": "code",
      "source": [
        "#Proceso en el cual se modifica la columna location\n",
        "prueba['Location']=prueba['Location'].str.replace(' ','')\n",
        "prueba['Location']=prueba['Location'].str.split(',').str[-1]"
      ],
      "metadata": {
        "id": "vstfPgOSFI_5"
      },
      "execution_count": 13,
      "outputs": []
    },
    {
      "cell_type": "code",
      "source": [
        "prueba[\"Location\"].value_counts() # Se puede observar una mayor consistencia en los datos"
      ],
      "metadata": {
        "colab": {
          "base_uri": "https://localhost:8080/"
        },
        "id": "Zw5fi3QxEML7",
        "outputId": "912c752b-ae5d-47cd-8584-5aefbbee5440"
      },
      "execution_count": 14,
      "outputs": [
        {
          "output_type": "execute_result",
          "data": {
            "text/plain": [
              "Colombo         36603\n",
              "Gampaha         15874\n",
              "Kurunegala       7648\n",
              "Kandy            7019\n",
              "Matara           4737\n",
              "                ...  \n",
              "Chavakacheri        5\n",
              "Sigiriya            3\n",
              "Eravur              3\n",
              "Kattankudy          2\n",
              "Keselwatta          2\n",
              "Name: Location, Length: 105, dtype: int64"
            ]
          },
          "metadata": {},
          "execution_count": 14
        }
      ]
    },
    {
      "cell_type": "markdown",
      "source": [
        "Por el momento se ha reducido considerablemente la cantidad de variables y la información de la ubicación es más consistente, falta arreglar unos detalles en los que solo se escribió la ciudad sin el distrito, para entregas posteriores se trabajará esta parte."
      ],
      "metadata": {
        "id": "kp0fS1qvMS3p"
      }
    },
    {
      "cell_type": "code",
      "source": [
        "vehicle[\"Location\"]=prueba[\"Location\"]"
      ],
      "metadata": {
        "colab": {
          "base_uri": "https://localhost:8080/"
        },
        "id": "6jfm9DhNODu3",
        "outputId": "f8fdf2dd-30aa-4d54-e4c5-82e0ce4883b5"
      },
      "execution_count": 15,
      "outputs": [
        {
          "output_type": "stream",
          "name": "stderr",
          "text": [
            "<ipython-input-15-e085bb12d8b1>:1: SettingWithCopyWarning: \n",
            "A value is trying to be set on a copy of a slice from a DataFrame.\n",
            "Try using .loc[row_indexer,col_indexer] = value instead\n",
            "\n",
            "See the caveats in the documentation: https://pandas.pydata.org/pandas-docs/stable/user_guide/indexing.html#returning-a-view-versus-a-copy\n",
            "  vehicle[\"Location\"]=prueba[\"Location\"]\n"
          ]
        }
      ]
    },
    {
      "cell_type": "markdown",
      "source": [
        "Ahora se procederá de la misma forma con la columna ```Mileage``` que como se hizo con la columna ```Price```. Removiendo los caracteres inncesarios:"
      ],
      "metadata": {
        "id": "ww3UPgT2k4fl"
      }
    },
    {
      "cell_type": "code",
      "source": [
        "vehicle['Mileage']=vehicle['Mileage'].str.replace('km','')\n",
        "vehicle['Mileage']=vehicle['Mileage'].str.replace(',','')\n",
        "vehicle['Mileage']=vehicle['Mileage'].str.replace('.','')\n",
        "vehicle['Mileage']=vehicle['Mileage'].str.replace(' ','')"
      ],
      "metadata": {
        "colab": {
          "base_uri": "https://localhost:8080/"
        },
        "id": "1NR5F6TXXfd7",
        "outputId": "7ef98379-1d3c-46c7-c0ce-c4dc32996d6d"
      },
      "execution_count": 16,
      "outputs": [
        {
          "output_type": "stream",
          "name": "stderr",
          "text": [
            "<ipython-input-16-363c5985cf17>:1: SettingWithCopyWarning: \n",
            "A value is trying to be set on a copy of a slice from a DataFrame.\n",
            "Try using .loc[row_indexer,col_indexer] = value instead\n",
            "\n",
            "See the caveats in the documentation: https://pandas.pydata.org/pandas-docs/stable/user_guide/indexing.html#returning-a-view-versus-a-copy\n",
            "  vehicle['Mileage']=vehicle['Mileage'].str.replace('km','')\n",
            "<ipython-input-16-363c5985cf17>:2: SettingWithCopyWarning: \n",
            "A value is trying to be set on a copy of a slice from a DataFrame.\n",
            "Try using .loc[row_indexer,col_indexer] = value instead\n",
            "\n",
            "See the caveats in the documentation: https://pandas.pydata.org/pandas-docs/stable/user_guide/indexing.html#returning-a-view-versus-a-copy\n",
            "  vehicle['Mileage']=vehicle['Mileage'].str.replace(',','')\n",
            "<ipython-input-16-363c5985cf17>:3: FutureWarning: The default value of regex will change from True to False in a future version. In addition, single character regular expressions will *not* be treated as literal strings when regex=True.\n",
            "  vehicle['Mileage']=vehicle['Mileage'].str.replace('.','')\n",
            "<ipython-input-16-363c5985cf17>:3: SettingWithCopyWarning: \n",
            "A value is trying to be set on a copy of a slice from a DataFrame.\n",
            "Try using .loc[row_indexer,col_indexer] = value instead\n",
            "\n",
            "See the caveats in the documentation: https://pandas.pydata.org/pandas-docs/stable/user_guide/indexing.html#returning-a-view-versus-a-copy\n",
            "  vehicle['Mileage']=vehicle['Mileage'].str.replace('.','')\n",
            "<ipython-input-16-363c5985cf17>:4: SettingWithCopyWarning: \n",
            "A value is trying to be set on a copy of a slice from a DataFrame.\n",
            "Try using .loc[row_indexer,col_indexer] = value instead\n",
            "\n",
            "See the caveats in the documentation: https://pandas.pydata.org/pandas-docs/stable/user_guide/indexing.html#returning-a-view-versus-a-copy\n",
            "  vehicle['Mileage']=vehicle['Mileage'].str.replace(' ','')\n"
          ]
        }
      ]
    },
    {
      "cell_type": "markdown",
      "source": [
        "Este es el dataset actual"
      ],
      "metadata": {
        "id": "aJpQNM6VdUuG"
      }
    },
    {
      "cell_type": "code",
      "source": [
        "vehicle.head()"
      ],
      "metadata": {
        "colab": {
          "base_uri": "https://localhost:8080/",
          "height": 0
        },
        "id": "-CNR1BnH6igr",
        "outputId": "6a1b2f9b-ae85-4b34-87e1-8b18842b7966"
      },
      "execution_count": 17,
      "outputs": [
        {
          "output_type": "execute_result",
          "data": {
            "text/plain": [
              "      Price   Brand               Model          Edition  Year Condition  \\\n",
              "0  12900000   Honda               Vezel          Limited  2017      Used   \n",
              "1  16250000  Jaguar                  XF     Fully Loaded  2013      Used   \n",
              "2  17000000  Toyota                 CHR  GT New Face 2wd  2020      Used   \n",
              "3  13000000  Toyota                 CHR           Toyato  2017      Used   \n",
              "4  33500000  Toyota  Land Cruiser Prado            prado  2015      Used   \n",
              "\n",
              "  Transmission       Body    Fuel  Capacity Mileage    Location  \n",
              "0    Automatic  SUV / 4x4  Hybrid  1,500 cc   37000  Kurunegala  \n",
              "1    Automatic     Saloon  Diesel  2,200 cc   42000  Kurunegala  \n",
              "2    Automatic  SUV / 4x4  Petrol  1,200 cc   15000     Colombo  \n",
              "3    Automatic  SUV / 4x4  Petrol  1,200 cc   21000     Colombo  \n",
              "4    Automatic  SUV / 4x4  Petrol  2,700 cc   57000     Gampaha  "
            ],
            "text/html": [
              "\n",
              "  <div id=\"df-5b9f0c12-1404-4b48-a220-ef9011dd5b95\">\n",
              "    <div class=\"colab-df-container\">\n",
              "      <div>\n",
              "<style scoped>\n",
              "    .dataframe tbody tr th:only-of-type {\n",
              "        vertical-align: middle;\n",
              "    }\n",
              "\n",
              "    .dataframe tbody tr th {\n",
              "        vertical-align: top;\n",
              "    }\n",
              "\n",
              "    .dataframe thead th {\n",
              "        text-align: right;\n",
              "    }\n",
              "</style>\n",
              "<table border=\"1\" class=\"dataframe\">\n",
              "  <thead>\n",
              "    <tr style=\"text-align: right;\">\n",
              "      <th></th>\n",
              "      <th>Price</th>\n",
              "      <th>Brand</th>\n",
              "      <th>Model</th>\n",
              "      <th>Edition</th>\n",
              "      <th>Year</th>\n",
              "      <th>Condition</th>\n",
              "      <th>Transmission</th>\n",
              "      <th>Body</th>\n",
              "      <th>Fuel</th>\n",
              "      <th>Capacity</th>\n",
              "      <th>Mileage</th>\n",
              "      <th>Location</th>\n",
              "    </tr>\n",
              "  </thead>\n",
              "  <tbody>\n",
              "    <tr>\n",
              "      <th>0</th>\n",
              "      <td>12900000</td>\n",
              "      <td>Honda</td>\n",
              "      <td>Vezel</td>\n",
              "      <td>Limited</td>\n",
              "      <td>2017</td>\n",
              "      <td>Used</td>\n",
              "      <td>Automatic</td>\n",
              "      <td>SUV / 4x4</td>\n",
              "      <td>Hybrid</td>\n",
              "      <td>1,500 cc</td>\n",
              "      <td>37000</td>\n",
              "      <td>Kurunegala</td>\n",
              "    </tr>\n",
              "    <tr>\n",
              "      <th>1</th>\n",
              "      <td>16250000</td>\n",
              "      <td>Jaguar</td>\n",
              "      <td>XF</td>\n",
              "      <td>Fully Loaded</td>\n",
              "      <td>2013</td>\n",
              "      <td>Used</td>\n",
              "      <td>Automatic</td>\n",
              "      <td>Saloon</td>\n",
              "      <td>Diesel</td>\n",
              "      <td>2,200 cc</td>\n",
              "      <td>42000</td>\n",
              "      <td>Kurunegala</td>\n",
              "    </tr>\n",
              "    <tr>\n",
              "      <th>2</th>\n",
              "      <td>17000000</td>\n",
              "      <td>Toyota</td>\n",
              "      <td>CHR</td>\n",
              "      <td>GT New Face 2wd</td>\n",
              "      <td>2020</td>\n",
              "      <td>Used</td>\n",
              "      <td>Automatic</td>\n",
              "      <td>SUV / 4x4</td>\n",
              "      <td>Petrol</td>\n",
              "      <td>1,200 cc</td>\n",
              "      <td>15000</td>\n",
              "      <td>Colombo</td>\n",
              "    </tr>\n",
              "    <tr>\n",
              "      <th>3</th>\n",
              "      <td>13000000</td>\n",
              "      <td>Toyota</td>\n",
              "      <td>CHR</td>\n",
              "      <td>Toyato</td>\n",
              "      <td>2017</td>\n",
              "      <td>Used</td>\n",
              "      <td>Automatic</td>\n",
              "      <td>SUV / 4x4</td>\n",
              "      <td>Petrol</td>\n",
              "      <td>1,200 cc</td>\n",
              "      <td>21000</td>\n",
              "      <td>Colombo</td>\n",
              "    </tr>\n",
              "    <tr>\n",
              "      <th>4</th>\n",
              "      <td>33500000</td>\n",
              "      <td>Toyota</td>\n",
              "      <td>Land Cruiser Prado</td>\n",
              "      <td>prado</td>\n",
              "      <td>2015</td>\n",
              "      <td>Used</td>\n",
              "      <td>Automatic</td>\n",
              "      <td>SUV / 4x4</td>\n",
              "      <td>Petrol</td>\n",
              "      <td>2,700 cc</td>\n",
              "      <td>57000</td>\n",
              "      <td>Gampaha</td>\n",
              "    </tr>\n",
              "  </tbody>\n",
              "</table>\n",
              "</div>\n",
              "      <button class=\"colab-df-convert\" onclick=\"convertToInteractive('df-5b9f0c12-1404-4b48-a220-ef9011dd5b95')\"\n",
              "              title=\"Convert this dataframe to an interactive table.\"\n",
              "              style=\"display:none;\">\n",
              "        \n",
              "  <svg xmlns=\"http://www.w3.org/2000/svg\" height=\"24px\"viewBox=\"0 0 24 24\"\n",
              "       width=\"24px\">\n",
              "    <path d=\"M0 0h24v24H0V0z\" fill=\"none\"/>\n",
              "    <path d=\"M18.56 5.44l.94 2.06.94-2.06 2.06-.94-2.06-.94-.94-2.06-.94 2.06-2.06.94zm-11 1L8.5 8.5l.94-2.06 2.06-.94-2.06-.94L8.5 2.5l-.94 2.06-2.06.94zm10 10l.94 2.06.94-2.06 2.06-.94-2.06-.94-.94-2.06-.94 2.06-2.06.94z\"/><path d=\"M17.41 7.96l-1.37-1.37c-.4-.4-.92-.59-1.43-.59-.52 0-1.04.2-1.43.59L10.3 9.45l-7.72 7.72c-.78.78-.78 2.05 0 2.83L4 21.41c.39.39.9.59 1.41.59.51 0 1.02-.2 1.41-.59l7.78-7.78 2.81-2.81c.8-.78.8-2.07 0-2.86zM5.41 20L4 18.59l7.72-7.72 1.47 1.35L5.41 20z\"/>\n",
              "  </svg>\n",
              "      </button>\n",
              "      \n",
              "  <style>\n",
              "    .colab-df-container {\n",
              "      display:flex;\n",
              "      flex-wrap:wrap;\n",
              "      gap: 12px;\n",
              "    }\n",
              "\n",
              "    .colab-df-convert {\n",
              "      background-color: #E8F0FE;\n",
              "      border: none;\n",
              "      border-radius: 50%;\n",
              "      cursor: pointer;\n",
              "      display: none;\n",
              "      fill: #1967D2;\n",
              "      height: 32px;\n",
              "      padding: 0 0 0 0;\n",
              "      width: 32px;\n",
              "    }\n",
              "\n",
              "    .colab-df-convert:hover {\n",
              "      background-color: #E2EBFA;\n",
              "      box-shadow: 0px 1px 2px rgba(60, 64, 67, 0.3), 0px 1px 3px 1px rgba(60, 64, 67, 0.15);\n",
              "      fill: #174EA6;\n",
              "    }\n",
              "\n",
              "    [theme=dark] .colab-df-convert {\n",
              "      background-color: #3B4455;\n",
              "      fill: #D2E3FC;\n",
              "    }\n",
              "\n",
              "    [theme=dark] .colab-df-convert:hover {\n",
              "      background-color: #434B5C;\n",
              "      box-shadow: 0px 1px 3px 1px rgba(0, 0, 0, 0.15);\n",
              "      filter: drop-shadow(0px 1px 2px rgba(0, 0, 0, 0.3));\n",
              "      fill: #FFFFFF;\n",
              "    }\n",
              "  </style>\n",
              "\n",
              "      <script>\n",
              "        const buttonEl =\n",
              "          document.querySelector('#df-5b9f0c12-1404-4b48-a220-ef9011dd5b95 button.colab-df-convert');\n",
              "        buttonEl.style.display =\n",
              "          google.colab.kernel.accessAllowed ? 'block' : 'none';\n",
              "\n",
              "        async function convertToInteractive(key) {\n",
              "          const element = document.querySelector('#df-5b9f0c12-1404-4b48-a220-ef9011dd5b95');\n",
              "          const dataTable =\n",
              "            await google.colab.kernel.invokeFunction('convertToInteractive',\n",
              "                                                     [key], {});\n",
              "          if (!dataTable) return;\n",
              "\n",
              "          const docLinkHtml = 'Like what you see? Visit the ' +\n",
              "            '<a target=\"_blank\" href=https://colab.research.google.com/notebooks/data_table.ipynb>data table notebook</a>'\n",
              "            + ' to learn more about interactive tables.';\n",
              "          element.innerHTML = '';\n",
              "          dataTable['output_type'] = 'display_data';\n",
              "          await google.colab.output.renderOutput(dataTable, element);\n",
              "          const docLink = document.createElement('div');\n",
              "          docLink.innerHTML = docLinkHtml;\n",
              "          element.appendChild(docLink);\n",
              "        }\n",
              "      </script>\n",
              "    </div>\n",
              "  </div>\n",
              "  "
            ]
          },
          "metadata": {},
          "execution_count": 17
        }
      ]
    },
    {
      "cell_type": "markdown",
      "source": [
        "También se pudo observar valores muy grandes en ```Price``` pero con una frecuencia baja, por lo que posteriormente para algunas gráficas se omitirán estos valores del dataset para poder presentar mejor las gráficas.\n",
        "\\\n",
        "\\\n",
        "Ahora se procede a remover las filas con los años que no tienen sentido, esto pues son solo 18 y no tiene sentido considerarlos para el análisis"
      ],
      "metadata": {
        "id": "BYyZDDlhPxbX"
      }
    },
    {
      "cell_type": "code",
      "source": [
        "print('Vehículos producidos en años previos a 1900: ',vehicle[vehicle['Year']<1900]['Year'].count())\n",
        "print('Años de dichos vehículos\\n',vehicle[vehicle['Year']<1900]['Year'])"
      ],
      "metadata": {
        "id": "7_n3B6Cdq5Kd",
        "colab": {
          "base_uri": "https://localhost:8080/"
        },
        "outputId": "bcaaa2f9-6039-4119-d658-98ccff763366"
      },
      "execution_count": 18,
      "outputs": [
        {
          "output_type": "stream",
          "name": "stdout",
          "text": [
            "Vehículos producidos en años previos a 1900:  16\n",
            "Años de dichos vehículos\n",
            " 66654     0\n",
            "67256     0\n",
            "72674     0\n",
            "73890     0\n",
            "77732     0\n",
            "80938     0\n",
            "83197     0\n",
            "83548     0\n",
            "91038     0\n",
            "91992     0\n",
            "94458     0\n",
            "99079     0\n",
            "115793    0\n",
            "118922    0\n",
            "118926    0\n",
            "119052    0\n",
            "Name: Year, dtype: int64\n"
          ]
        }
      ]
    },
    {
      "cell_type": "code",
      "source": [
        "print('\\nVehículos producidos en años posteriores a 2022: ',vehicle[vehicle['Year']>2022]['Year'].count())\n",
        "print('Años de dichos vehículos\\n',vehicle[vehicle['Year']>2022]['Year'])"
      ],
      "metadata": {
        "colab": {
          "base_uri": "https://localhost:8080/"
        },
        "id": "oFUd9Gjiz-qq",
        "outputId": "20f0a351-1762-472d-bbfc-7d661cd851aa"
      },
      "execution_count": 19,
      "outputs": [
        {
          "output_type": "stream",
          "name": "stdout",
          "text": [
            "\n",
            "Vehículos producidos en años posteriores a 2022:  3\n",
            "Años de dichos vehículos\n",
            " 90257    2557\n",
            "96345    2561\n",
            "96530    2550\n",
            "Name: Year, dtype: int64\n"
          ]
        }
      ]
    },
    {
      "cell_type": "markdown",
      "source": [
        "Estos 18 elementos se retirarán del dataset"
      ],
      "metadata": {
        "id": "0buPagzpX8xH"
      }
    },
    {
      "cell_type": "markdown",
      "source": [
        "## Feature selection"
      ],
      "metadata": {
        "id": "ISveYNPx1ZQB"
      }
    },
    {
      "cell_type": "markdown",
      "source": [
        "Ahora se procederá a aplicar el Feauring Selection para poder determinar qué columnas son las más relevantes para el análisis del potencial precio para un vehículo"
      ],
      "metadata": {
        "id": "RX_0Cf1dRWB-"
      }
    },
    {
      "cell_type": "code",
      "source": [
        "pip install category_encoders"
      ],
      "metadata": {
        "colab": {
          "base_uri": "https://localhost:8080/"
        },
        "id": "TUvkgjENTkgB",
        "outputId": "f17f82e6-c91a-4e7a-b6ca-47f10d4b7eb1"
      },
      "execution_count": 20,
      "outputs": [
        {
          "output_type": "stream",
          "name": "stdout",
          "text": [
            "Looking in indexes: https://pypi.org/simple, https://us-python.pkg.dev/colab-wheels/public/simple/\n",
            "Collecting category_encoders\n",
            "  Downloading category_encoders-2.6.0-py2.py3-none-any.whl (81 kB)\n",
            "\u001b[2K     \u001b[90m━━━━━━━━━━━━━━━━━━━━━━━━━━━━━━━━━━━━━━━━\u001b[0m \u001b[32m81.2/81.2 KB\u001b[0m \u001b[31m3.4 MB/s\u001b[0m eta \u001b[36m0:00:00\u001b[0m\n",
            "\u001b[?25hRequirement already satisfied: numpy>=1.14.0 in /usr/local/lib/python3.9/dist-packages (from category_encoders) (1.22.4)\n",
            "Requirement already satisfied: statsmodels>=0.9.0 in /usr/local/lib/python3.9/dist-packages (from category_encoders) (0.13.5)\n",
            "Requirement already satisfied: scipy>=1.0.0 in /usr/local/lib/python3.9/dist-packages (from category_encoders) (1.10.1)\n",
            "Requirement already satisfied: patsy>=0.5.1 in /usr/local/lib/python3.9/dist-packages (from category_encoders) (0.5.3)\n",
            "Requirement already satisfied: pandas>=1.0.5 in /usr/local/lib/python3.9/dist-packages (from category_encoders) (1.4.4)\n",
            "Requirement already satisfied: scikit-learn>=0.20.0 in /usr/local/lib/python3.9/dist-packages (from category_encoders) (1.2.2)\n",
            "Requirement already satisfied: python-dateutil>=2.8.1 in /usr/local/lib/python3.9/dist-packages (from pandas>=1.0.5->category_encoders) (2.8.2)\n",
            "Requirement already satisfied: pytz>=2020.1 in /usr/local/lib/python3.9/dist-packages (from pandas>=1.0.5->category_encoders) (2022.7.1)\n",
            "Requirement already satisfied: six in /usr/local/lib/python3.9/dist-packages (from patsy>=0.5.1->category_encoders) (1.16.0)\n",
            "Requirement already satisfied: joblib>=1.1.1 in /usr/local/lib/python3.9/dist-packages (from scikit-learn>=0.20.0->category_encoders) (1.1.1)\n",
            "Requirement already satisfied: threadpoolctl>=2.0.0 in /usr/local/lib/python3.9/dist-packages (from scikit-learn>=0.20.0->category_encoders) (3.1.0)\n",
            "Requirement already satisfied: packaging>=21.3 in /usr/local/lib/python3.9/dist-packages (from statsmodels>=0.9.0->category_encoders) (23.0)\n",
            "Installing collected packages: category_encoders\n",
            "Successfully installed category_encoders-2.6.0\n"
          ]
        }
      ]
    },
    {
      "cell_type": "code",
      "source": [
        "from category_encoders import TargetEncoder\n",
        "from sklearn.feature_selection import mutual_info_classif\n",
        "from sklearn.linear_model import LinearRegression\n",
        "from sklearn.metrics import r2_score, mean_absolute_error, mean_squared_error\n",
        "from sklearn.model_selection import train_test_split"
      ],
      "metadata": {
        "id": "wc4UAtbPSMe6"
      },
      "execution_count": 21,
      "outputs": []
    },
    {
      "cell_type": "code",
      "source": [
        "vehicles1=vehicle.copy()\n",
        "vehicles1['Model']=vehicle['Model'].astype(str)\n",
        "# Se convierte el precio a tipo float\n",
        "vehicles1['Price'] = pd.to_numeric(vehicles1['Price'],errors='coerce')\n",
        "vehicles1 = vehicles1[vehicles1['Price'].notna()]\n",
        "# Se eliminan los registros con una fecha de fabricación fuera del rango de años entre 1900 y 2022\n",
        "vehicles1=vehicles1.drop(vehicles1[vehicles1['Year']<1900].index)\n",
        "vehicles1=vehicles1.drop(vehicles1[vehicles1['Year']>2022].index)\n",
        "# Se procede a remover los registros con un precio que supere las 300000000 ₹ dado que afecta a la visualización de las gráficas y dichos valores son pocos\n",
        "vehicles1=vehicles1.drop(vehicles1[vehicles1['Price']>300000000].index)\n",
        "vehicles=vehicles1.copy()\n"
      ],
      "metadata": {
        "id": "8Z6sb2lxTdr8"
      },
      "execution_count": 22,
      "outputs": []
    },
    {
      "cell_type": "code",
      "source": [
        "vehicles1['Marca-Modelo']=vehicles1['Brand'].str.cat(' : '+vehicles1['Model'])\n",
        "vehicles1=vehicles1.drop(['Brand'], axis=1)\n",
        "vehicles1=vehicles1.drop(['Model'], axis=1)\n",
        "vehicles1['Marca-Modelo'] = TargetEncoder().fit_transform(vehicles1['Marca-Modelo'], vehicles1['Price']) \n",
        "vehicles1['Edition'] = TargetEncoder().fit_transform(vehicles1['Edition'], vehicles1['Price']) \n",
        "vehicles1['Year'] = TargetEncoder().fit_transform(vehicles1['Year'], vehicles1['Price']) \n",
        "vehicles1['Condition'] = TargetEncoder().fit_transform(vehicles1['Condition'], vehicles1['Price']) \n",
        "vehicles1['Transmission'] = TargetEncoder().fit_transform(vehicles1['Transmission'], vehicles1['Price']) \n",
        "vehicles1['Body'] = TargetEncoder().fit_transform(vehicles1['Body'], vehicles1['Price']) \n",
        "vehicles1['Fuel'] = TargetEncoder().fit_transform(vehicles1['Fuel'], vehicles1['Price']) \n",
        "vehicles1['Capacity'] = TargetEncoder().fit_transform(vehicles1['Capacity'], vehicles1['Price']) \n",
        "vehicles1['Mileage'] = TargetEncoder().fit_transform(vehicles1['Mileage'], vehicles1['Price']) \n",
        "vehicles1['Location'] = TargetEncoder().fit_transform(vehicles1['Location'], vehicles1['Price']) "
      ],
      "metadata": {
        "colab": {
          "base_uri": "https://localhost:8080/"
        },
        "id": "KgVY86yKSWQc",
        "outputId": "3c0a1181-cdd0-4103-b5a7-4d902e675430"
      },
      "execution_count": 23,
      "outputs": [
        {
          "output_type": "stream",
          "name": "stdout",
          "text": [
            "Warning: No categorical columns found. Calling 'transform' will only return input data.\n"
          ]
        }
      ]
    },
    {
      "cell_type": "code",
      "source": [
        "mutual_info = mutual_info_classif(vehicles1.drop(['Price'], axis=1), vehicles1['Price'])\n",
        "# show the mutual information for each column as a dataframe\n",
        "pd.DataFrame(mutual_info, index=vehicles1.drop(['Price'], axis=1).columns, columns=['MI']).sort_values('MI', ascending=False) # Esto se usará para determinar qué variables afectan más a las medidas"
      ],
      "metadata": {
        "id": "XhSH-xUCXNja",
        "colab": {
          "base_uri": "https://localhost:8080/",
          "height": 0
        },
        "outputId": "e72ee70c-610d-496a-f06b-f0ec5e790976"
      },
      "execution_count": 24,
      "outputs": [
        {
          "output_type": "execute_result",
          "data": {
            "text/plain": [
              "                    MI\n",
              "Marca-Modelo  1.493831\n",
              "Edition       1.017445\n",
              "Capacity      0.846144\n",
              "Mileage       0.822302\n",
              "Body          0.663345\n",
              "Year          0.475112\n",
              "Transmission  0.454825\n",
              "Fuel          0.296235\n",
              "Condition     0.251303\n",
              "Location      0.202687"
            ],
            "text/html": [
              "\n",
              "  <div id=\"df-a3d420d9-e287-4f74-b166-7e1ffb41295d\">\n",
              "    <div class=\"colab-df-container\">\n",
              "      <div>\n",
              "<style scoped>\n",
              "    .dataframe tbody tr th:only-of-type {\n",
              "        vertical-align: middle;\n",
              "    }\n",
              "\n",
              "    .dataframe tbody tr th {\n",
              "        vertical-align: top;\n",
              "    }\n",
              "\n",
              "    .dataframe thead th {\n",
              "        text-align: right;\n",
              "    }\n",
              "</style>\n",
              "<table border=\"1\" class=\"dataframe\">\n",
              "  <thead>\n",
              "    <tr style=\"text-align: right;\">\n",
              "      <th></th>\n",
              "      <th>MI</th>\n",
              "    </tr>\n",
              "  </thead>\n",
              "  <tbody>\n",
              "    <tr>\n",
              "      <th>Marca-Modelo</th>\n",
              "      <td>1.493831</td>\n",
              "    </tr>\n",
              "    <tr>\n",
              "      <th>Edition</th>\n",
              "      <td>1.017445</td>\n",
              "    </tr>\n",
              "    <tr>\n",
              "      <th>Capacity</th>\n",
              "      <td>0.846144</td>\n",
              "    </tr>\n",
              "    <tr>\n",
              "      <th>Mileage</th>\n",
              "      <td>0.822302</td>\n",
              "    </tr>\n",
              "    <tr>\n",
              "      <th>Body</th>\n",
              "      <td>0.663345</td>\n",
              "    </tr>\n",
              "    <tr>\n",
              "      <th>Year</th>\n",
              "      <td>0.475112</td>\n",
              "    </tr>\n",
              "    <tr>\n",
              "      <th>Transmission</th>\n",
              "      <td>0.454825</td>\n",
              "    </tr>\n",
              "    <tr>\n",
              "      <th>Fuel</th>\n",
              "      <td>0.296235</td>\n",
              "    </tr>\n",
              "    <tr>\n",
              "      <th>Condition</th>\n",
              "      <td>0.251303</td>\n",
              "    </tr>\n",
              "    <tr>\n",
              "      <th>Location</th>\n",
              "      <td>0.202687</td>\n",
              "    </tr>\n",
              "  </tbody>\n",
              "</table>\n",
              "</div>\n",
              "      <button class=\"colab-df-convert\" onclick=\"convertToInteractive('df-a3d420d9-e287-4f74-b166-7e1ffb41295d')\"\n",
              "              title=\"Convert this dataframe to an interactive table.\"\n",
              "              style=\"display:none;\">\n",
              "        \n",
              "  <svg xmlns=\"http://www.w3.org/2000/svg\" height=\"24px\"viewBox=\"0 0 24 24\"\n",
              "       width=\"24px\">\n",
              "    <path d=\"M0 0h24v24H0V0z\" fill=\"none\"/>\n",
              "    <path d=\"M18.56 5.44l.94 2.06.94-2.06 2.06-.94-2.06-.94-.94-2.06-.94 2.06-2.06.94zm-11 1L8.5 8.5l.94-2.06 2.06-.94-2.06-.94L8.5 2.5l-.94 2.06-2.06.94zm10 10l.94 2.06.94-2.06 2.06-.94-2.06-.94-.94-2.06-.94 2.06-2.06.94z\"/><path d=\"M17.41 7.96l-1.37-1.37c-.4-.4-.92-.59-1.43-.59-.52 0-1.04.2-1.43.59L10.3 9.45l-7.72 7.72c-.78.78-.78 2.05 0 2.83L4 21.41c.39.39.9.59 1.41.59.51 0 1.02-.2 1.41-.59l7.78-7.78 2.81-2.81c.8-.78.8-2.07 0-2.86zM5.41 20L4 18.59l7.72-7.72 1.47 1.35L5.41 20z\"/>\n",
              "  </svg>\n",
              "      </button>\n",
              "      \n",
              "  <style>\n",
              "    .colab-df-container {\n",
              "      display:flex;\n",
              "      flex-wrap:wrap;\n",
              "      gap: 12px;\n",
              "    }\n",
              "\n",
              "    .colab-df-convert {\n",
              "      background-color: #E8F0FE;\n",
              "      border: none;\n",
              "      border-radius: 50%;\n",
              "      cursor: pointer;\n",
              "      display: none;\n",
              "      fill: #1967D2;\n",
              "      height: 32px;\n",
              "      padding: 0 0 0 0;\n",
              "      width: 32px;\n",
              "    }\n",
              "\n",
              "    .colab-df-convert:hover {\n",
              "      background-color: #E2EBFA;\n",
              "      box-shadow: 0px 1px 2px rgba(60, 64, 67, 0.3), 0px 1px 3px 1px rgba(60, 64, 67, 0.15);\n",
              "      fill: #174EA6;\n",
              "    }\n",
              "\n",
              "    [theme=dark] .colab-df-convert {\n",
              "      background-color: #3B4455;\n",
              "      fill: #D2E3FC;\n",
              "    }\n",
              "\n",
              "    [theme=dark] .colab-df-convert:hover {\n",
              "      background-color: #434B5C;\n",
              "      box-shadow: 0px 1px 3px 1px rgba(0, 0, 0, 0.15);\n",
              "      filter: drop-shadow(0px 1px 2px rgba(0, 0, 0, 0.3));\n",
              "      fill: #FFFFFF;\n",
              "    }\n",
              "  </style>\n",
              "\n",
              "      <script>\n",
              "        const buttonEl =\n",
              "          document.querySelector('#df-a3d420d9-e287-4f74-b166-7e1ffb41295d button.colab-df-convert');\n",
              "        buttonEl.style.display =\n",
              "          google.colab.kernel.accessAllowed ? 'block' : 'none';\n",
              "\n",
              "        async function convertToInteractive(key) {\n",
              "          const element = document.querySelector('#df-a3d420d9-e287-4f74-b166-7e1ffb41295d');\n",
              "          const dataTable =\n",
              "            await google.colab.kernel.invokeFunction('convertToInteractive',\n",
              "                                                     [key], {});\n",
              "          if (!dataTable) return;\n",
              "\n",
              "          const docLinkHtml = 'Like what you see? Visit the ' +\n",
              "            '<a target=\"_blank\" href=https://colab.research.google.com/notebooks/data_table.ipynb>data table notebook</a>'\n",
              "            + ' to learn more about interactive tables.';\n",
              "          element.innerHTML = '';\n",
              "          dataTable['output_type'] = 'display_data';\n",
              "          await google.colab.output.renderOutput(dataTable, element);\n",
              "          const docLink = document.createElement('div');\n",
              "          docLink.innerHTML = docLinkHtml;\n",
              "          element.appendChild(docLink);\n",
              "        }\n",
              "      </script>\n",
              "    </div>\n",
              "  </div>\n",
              "  "
            ]
          },
          "metadata": {},
          "execution_count": 24
        }
      ]
    },
    {
      "cell_type": "markdown",
      "source": [
        "Luego del análisis, se puede observar que las variables que tienen un mayor impacto a la hora de determinar el precio de un vehículo son Marca-Modelo, Edition, Capacity, Mileage, Body, Year.\n",
        "\n",
        "Elementos como la transmisión y condición puede no considerarse relevante dado que la mayoría de los vehículos son de tipo automático o estandar, así como la mayoría de los vehículos son usados."
      ],
      "metadata": {
        "id": "2DEscgnOXENw"
      }
    },
    {
      "cell_type": "code",
      "source": [
        "print(\"Filas:\",vehicles1.shape[0],\"\\nColumnas:\",vehicles1.shape[1])"
      ],
      "metadata": {
        "colab": {
          "base_uri": "https://localhost:8080/"
        },
        "id": "g74W25vDkY0D",
        "outputId": "ef07b234-beb6-43eb-da0e-3450e99926d3"
      },
      "execution_count": 57,
      "outputs": [
        {
          "output_type": "stream",
          "name": "stdout",
          "text": [
            "Filas: 118433 \n",
            "Columnas: 11\n"
          ]
        }
      ]
    },
    {
      "cell_type": "markdown",
      "source": [
        "##Preguntas/Hipótesis\n",
        "A continuación, se presentan las preguntas e hipótesis que se buscarán responder para poder alcanzar el objetivo planteado anteriormente."
      ],
      "metadata": {
        "id": "IvBC8V9v2ARn"
      }
    },
    {
      "cell_type": "markdown",
      "source": [
        "Preguntas:\n",
        "- ¿Qué marca de vehículo está más presente en el mercado?\n",
        "- De la marca con mayor influencia en el mercado: ¿cuáles son sus modelos de vehículo con mayor oferta?\n",
        "\n",
        "Hipótesis:\n",
        "- Entre más reciente el vehículo más elevado el precio.\n",
        "- El tipo de vehículo Sedán es el más ofertado."
      ],
      "metadata": {
        "id": "Ebhs4tw0m28v"
      }
    },
    {
      "cell_type": "markdown",
      "source": [
        "##EDA"
      ],
      "metadata": {
        "id": "diFfipAb0lcz"
      }
    },
    {
      "cell_type": "markdown",
      "source": [
        "Antes de proseguir, algo que puede ser de interes es qué tan conveniente es emplear este conjunto de datos para establecer un umbral del precio de un vehículo usado. \n",
        "\\\n",
        "\\\n",
        "Para este caso se presenta el siguiente gráfico:"
      ],
      "metadata": {
        "id": "-8JjTDV50zPE"
      }
    },
    {
      "cell_type": "code",
      "source": [
        "# Configuración de colores\n",
        "# colores = [\"#60D394\",\"#AAF683\",\"#FFD97D\"]\n",
        "colores = ['#99ff99','#66b3ff','#ff9999']#,'#ffcc99']\n",
        "# Gráfico de pastel en base al estado del vehículo\n",
        "fig, ax = plt.subplots(figsize=(8,8))\n",
        "ax.pie(vehicles['Condition'].value_counts(),labels=vehicles['Condition'].unique(),autopct=\"%0.1f %%\",pctdistance=0.85,colors=colores)\n",
        "ax.set_title( \"Condición del vehículo\" , size = 18 ) \n",
        "#draw circle\n",
        "centre_circle = plt.Circle((0,0),0.70,fc='white')\n",
        "fig = plt.gcf()\n",
        "fig.gca().add_artist(centre_circle)\n",
        "plt.show()"
      ],
      "metadata": {
        "colab": {
          "base_uri": "https://localhost:8080/",
          "height": 0
        },
        "id": "MvaOQLHn1m-c",
        "outputId": "e93452c5-63e5-4886-befb-72eb061fafd0"
      },
      "execution_count": 25,
      "outputs": [
        {
          "output_type": "display_data",
          "data": {
            "text/plain": [
              "<Figure size 576x576 with 1 Axes>"
            ],
            "image/png": "[encoded data removed]"
          },
          "metadata": {}
        }
      ]
    },
    {
      "cell_type": "markdown",
      "source": [
        "Como se puede observar, el 97.5% de las ofertas son sobre vehículos usados, por ende establecer un estimado del precio de un vehículo usado en base a estos datos será plausible; esto, a su vez, será un indicativo de que la marca más ofertada en este datset se corresponderá con la marca más usada en Sri Lanka."
      ],
      "metadata": {
        "id": "O16cRZx81pNl"
      }
    },
    {
      "cell_type": "markdown",
      "source": [
        "###Visualizaciones-Resultados"
      ],
      "metadata": {
        "id": "olS5Gy5d04U8"
      }
    },
    {
      "cell_type": "markdown",
      "source": [
        "Visualizaciones empleando gráficos convenientes para contestar las preguntas así como su respectivo análisis y recomendaciones."
      ],
      "metadata": {
        "id": "QOCwSieQ06Yz"
      }
    },
    {
      "cell_type": "markdown",
      "source": [
        "###Preguntas"
      ],
      "metadata": {
        "id": "14jrujMjWUKR"
      }
    },
    {
      "cell_type": "markdown",
      "source": [
        "####¿Qué marca de vehículo está más presente en el mercado?"
      ],
      "metadata": {
        "id": "zYa7it13WQDM"
      }
    },
    {
      "cell_type": "markdown",
      "source": [
        "Para poder contestar esta pregunta se desarrollará un Top 10 de las marcas con mayor frecuencia en el sitio, con lo cual se podrá determinar las "
      ],
      "metadata": {
        "id": "vm0CLLOv5ZGS"
      }
    },
    {
      "cell_type": "code",
      "source": [
        "# Se extraen las marcas en un listado\n",
        "lista=vehicles['Brand']\n",
        "# Se determinan las distintas marcas con su respectiva frecuencia en dos numpy array\n",
        "(marcas, cuenta) = np.unique(lista, return_counts=True)\n",
        "# Se concatenan ambos array para crear una tabla\n",
        "tabla = np.column_stack((marcas, cuenta))\n",
        "# Se ordena la tabla en orden descendente\n",
        "tabla = tabla[tabla[:, 1].argsort()[::-1]]"
      ],
      "metadata": {
        "id": "sLL-BeAAWzCt"
      },
      "execution_count": 26,
      "outputs": []
    },
    {
      "cell_type": "code",
      "source": [
        "# Se grafican las 10 marcas con mayor frecuencia registrada en un gráfico de barras\n",
        "fig, ax = plt.subplots(figsize=(15,10))\n",
        "ax.bar(tabla[0:10,0],tabla[0:10,1])  # Como la tabla esta en orden descendente se toman los 10 primeros elementos para graficar en la tabla obteniendo así el Top 10\n",
        "for i in range(10):\n",
        "  ax.text(i, tabla[i,1],tabla[i,1], ha = 'center') # Se indican las frecuencias en la gráfica\n",
        "ax.set_ylabel( \"Frecuencia\" , size = 13 ) \n",
        "ax.set_title( \"Top 10 marcas más registradas\" , size = 18 ) \n",
        "plt.show()"
      ],
      "metadata": {
        "colab": {
          "base_uri": "https://localhost:8080/",
          "height": 0
        },
        "id": "POUTm6UBWO4Z",
        "outputId": "baaf542b-6ddd-401b-8b49-65dfb283f44f"
      },
      "execution_count": 27,
      "outputs": [
        {
          "output_type": "display_data",
          "data": {
            "text/plain": [
              "<Figure size 1080x720 with 1 Axes>"
            ],
            "image/png": "[encoded data removed]"
          },
          "metadata": {
            "needs_background": "light"
          }
        }
      ]
    },
    {
      "cell_type": "markdown",
      "source": [
        "Como resultado del gráfico de barras, se ha determinado que las marcas más ofertadas son Toyota y Suzuki, siendo estas con la mayor frecuencia registrada. A continuación se presenta una tabla con el resumen de las marcas y sus frecuencias:\n",
        "\n",
        "| Marca | Frecuencia |\n",
        "| ----- | --- |\n",
        "| Toyota | 30222 |\n",
        "| Suzuki | 17026 |\n",
        "| Honda | 12052 |\n",
        "| Nissan | 9150 |\n",
        "| Bajaj | 8752 |\n",
        "| Mitsubishi | 6358 |\n",
        "| Tata | 2300 |\n",
        "| Mercedez Benz | 2232 |\n",
        "| BMW | 2210 |\n",
        "| Micro | 2110 |\n",
        "\n",
        "Por lo que en respuesta a la pregunta la marca más presente en el mercado es la marca **Toyota**."
      ],
      "metadata": {
        "id": "ZN-G43W1xqXf"
      }
    },
    {
      "cell_type": "markdown",
      "source": [
        "####De la marca con mayor influencia en el mercado: ¿cuáles son sus modelos de vehículo con mayor oferta?"
      ],
      "metadata": {
        "id": "3fT8UW6FWkfT"
      }
    },
    {
      "cell_type": "markdown",
      "source": [
        "Para esta pregunta se tomará de referencia la respuesta de la pregunta anterior, siendo **Toyota** la marca más ofertada, se procederá a buscar cuales son los modelos de esta marca con mayor presencia en el mercado de Sri Lanka. \n",
        "\\\n",
        "\\\n",
        "Se procederá a determinar un Top 5 de los modelos en base a la frecuencia en que aparecen en el sitio."
      ],
      "metadata": {
        "id": "Q3BzetbG8AMn"
      }
    },
    {
      "cell_type": "code",
      "source": [
        "# Se extraen los modelos en una lista, filtrados por la marca Toyota\n",
        "Modelos=vehicles[vehicles['Brand']=='Toyota']['Model']\n",
        "# Se determinan llos modelos con su respectiva frecuencia en dos numpy array\n",
        "(modelo, cantidad) = np.unique(Modelos, return_counts=True)\n",
        "# Se crea una tabla concatenan ambos array\n",
        "tabla2 = np.column_stack((modelo, cantidad))\n",
        "# Se ordena la tabla en orden descendente\n",
        "tabla2 = tabla2[tabla2[:, 1].argsort()[::-1]]"
      ],
      "metadata": {
        "id": "w2VHvLl1W4lr"
      },
      "execution_count": 28,
      "outputs": []
    },
    {
      "cell_type": "code",
      "source": [
        "# Se grafican los modelos de la marca toyota con su respectiva frecuencia\n",
        "fig, axes = plt.subplots(figsize=(20,5))\n",
        "p=sns.barplot(x=tabla2[0:5,1], y=tabla2[0:5,0])\n",
        "# Se grafican las 10 marcas con mayor frecuencia registrada en un gráfico de barras\n",
        "# fig, ax = plt.subplots(figsize=(15,10))\n",
        "# ax.bar(tabla[0:10,0],tabla[0:10,1])  # Como la tabla esta en orden descendente se toman los 10 primeros elementos para graficar en la tabla obteniendo así el Top 10\n",
        "for pr in p.patches:\n",
        "    _x = pr.get_x() + pr.get_width() + float(0.4)\n",
        "    _y = pr.get_y() + pr.get_height()\n",
        "    value = int(pr.get_width())\n",
        "    p.text(_x, _y, value, ha=\"left\")\n",
        "p.set_title( \"Top 5 modelos de Toyota más ofertados\" , size = 18 ) \n",
        "plt.show()"
      ],
      "metadata": {
        "colab": {
          "base_uri": "https://localhost:8080/",
          "height": 0
        },
        "id": "PZUpwjPRWtUb",
        "outputId": "06333986-442f-4c30-b19e-3838a1f12e36"
      },
      "execution_count": 29,
      "outputs": [
        {
          "output_type": "display_data",
          "data": {
            "text/plain": [
              "<Figure size 1440x360 with 1 Axes>"
            ],
            "image/png": "[encoded data removed]"
          },
          "metadata": {
            "needs_background": "light"
          }
        }
      ]
    },
    {
      "cell_type": "markdown",
      "source": [
        "| Modelo | Frecuencia |\n",
        "| ----- | --- |\n",
        "| Vitz | 3320 |\n",
        "| Axio | 2278 |\n",
        "| Aqua | 2213 |\n",
        "| Premio | 2161 |\n",
        "| Prius | 1844 |\n",
        "\n",
        "De los modelos registrados, en la marca Toyota, la que tiene mayor (notable) oferta es el **Toyota Vitz**."
      ],
      "metadata": {
        "id": "vYDGAx7H-x6G"
      }
    },
    {
      "cell_type": "markdown",
      "source": [
        "###Hipótesis"
      ],
      "metadata": {
        "id": "z-sNSSAUYtio"
      }
    },
    {
      "cell_type": "markdown",
      "source": [
        "####Entre más reciente el vehículo más elevado el precio."
      ],
      "metadata": {
        "id": "pXpjKiA_Y0C7"
      }
    },
    {
      "cell_type": "markdown",
      "source": [
        "Para el análisis de los precios solo se considerarán vehículos del año 2000 en delante, por lo que se filtrarán los datos por año, así como se tomará en consideración que los datos fueron registrados en el año 2021.\n",
        "\\\n",
        "\\\n",
        "Para este caso se procedera a crear un diagrama de caja para analizar el valor de la media en los precios cada 6 años, dado que las marcas de renombre (y las de mayor trayectoria) suelen actualizar sus vehículos entre 5 a 7 años."
      ],
      "metadata": {
        "id": "ETUEH4GI_dEQ"
      }
    },
    {
      "cell_type": "code",
      "source": [
        "def rango(value):\n",
        "    if value < 2006:\n",
        "        return \"2000-2005\"\n",
        "    elif 2006 <= value < 2012:\n",
        "        return \"2006-2011\"\n",
        "    elif 2012 <= value < 2018:\n",
        "        return \"2012-2017\"\n",
        "    elif 2018 <= value:\n",
        "        return \"2018-2022\""
      ],
      "metadata": {
        "id": "HI19B7g-h4kq"
      },
      "execution_count": 30,
      "outputs": []
    },
    {
      "cell_type": "code",
      "source": [
        "Year_Price=vehicles.copy()\n",
        "Year_Price=Year_Price.drop(Year_Price[Year_Price['Year']<2000].index)\n",
        "Year_Price['Year Range'] = Year_Price['Year'].map(rango)"
      ],
      "metadata": {
        "id": "0agPxk0bbiIm"
      },
      "execution_count": 31,
      "outputs": []
    },
    {
      "cell_type": "code",
      "source": [
        "fig, ax = plt.subplots(figsize=(27,16))\n",
        "box_plot=sns.boxplot(data=Year_Price, x=\"Year Range\", y=\"Price\", hue=\"Year Range\", dodge=False)\n",
        "box_plot.set_title( \"Gráfico de cajas Precio / Año\" , size = 18 ) \n",
        "plt.show()"
      ],
      "metadata": {
        "colab": {
          "base_uri": "https://localhost:8080/",
          "height": 0
        },
        "id": "m_fII7Q8a6-9",
        "outputId": "2f156913-c371-4a4c-8860-3189e61e8d49"
      },
      "execution_count": 32,
      "outputs": [
        {
          "output_type": "display_data",
          "data": {
            "text/plain": [
              "<Figure size 1944x1152 with 1 Axes>"
            ],
            "image/png": "[encoded data removed]"
          },
          "metadata": {
            "needs_background": "light"
          }
        }
      ]
    },
    {
      "cell_type": "code",
      "source": [
        "# Gráfica anterior pero indicando las medianas\n",
        "fig, ax = plt.subplots(figsize=(27,16))\n",
        "box_plot=sns.boxplot(data=Year_Price, x=\"Year Range\", y=\"Price\", hue=\"Year Range\", dodge=False)\n",
        "categories = ax.get_xticks()\n",
        "lines = ax.get_lines()\n",
        "for cat in categories:\n",
        "    y = round(lines[4+cat*6].get_ydata()[0],1) \n",
        "    ax.text(cat, y, f'{y}', ha='center', va='center', fontweight='bold', size=10,color='white',bbox=dict(facecolor='#445A64'))\n",
        "box_plot.set_title( \"Gráfico de cajas Precio / Año (Medias agregadas)\" , size = 18 ) \n",
        "plt.show()"
      ],
      "metadata": {
        "colab": {
          "base_uri": "https://localhost:8080/",
          "height": 0
        },
        "id": "SyO36Avldc6h",
        "outputId": "5400168f-d6ef-4828-e0eb-b8aa77940718"
      },
      "execution_count": 33,
      "outputs": [
        {
          "output_type": "display_data",
          "data": {
            "text/plain": [
              "<Figure size 1944x1152 with 1 Axes>"
            ],
            "image/png": "[encoded data removed]"
          },
          "metadata": {
            "needs_background": "light"
          }
        }
      ]
    },
    {
      "cell_type": "markdown",
      "source": [
        "Como se puede observar, a medida incrementan los años la mediana de los precios en los vehículos incrementa (así como la concentración de los datos) siendo que entre más reciente el vehículo mayor es el precio que se oferta.\n",
        "\n",
        "| Año | Media |\n",
        "| ----- | --- |\n",
        "| 2000-2005 | 3.0875x10<sup>6</sup> |\n",
        "| 2006-2011 | 4.175x10<sup>6</sup> |\n",
        "| 2012-2017 | 5.4x10<sup>6</sup> |\n",
        "| 2018-2022 | 7.5x10<sup>6</sup> |\n",
        "\n",
        "Por ende se comprueba la hipótesis de que *entre más reciente el vehículo más elevado será el precio*."
      ],
      "metadata": {
        "id": "1fLUFzgVwrZh"
      }
    },
    {
      "cell_type": "markdown",
      "source": [
        "####El tipo de vehículo sedán es el más ofertado."
      ],
      "metadata": {
        "id": "VRaJsHBtY3aM"
      }
    },
    {
      "cell_type": "markdown",
      "source": [
        "Como se vió anteriormente en el Top 5 de modelos más ofertados de la marca Toyota, se puede creer que el tipo de vehículo más ofertado es el tipo sedán, para esto se procederá a crear un Top 10 de los modelos más ofertados en el sitio así como su respectiva marca para poder identificar los vehículos de forma precisa."
      ],
      "metadata": {
        "id": "S9UdIOdnxdMt"
      }
    },
    {
      "cell_type": "code",
      "source": [
        "Tipos = pd.concat([vehicles['Brand'],vehicles['Model']], axis=1)\n",
        "Tipos['Union']=Tipos['Brand'].str.cat(' : '+Tipos['Model'])\n",
        "(tipo, numero) = np.unique(Tipos['Union'], return_counts=True)\n",
        "tabla10 = np.column_stack((tipo, numero))\n",
        "tabla10 = tabla10[tabla10[:, 1].argsort()[::-1]]"
      ],
      "metadata": {
        "id": "XcI0xEeUiWKO"
      },
      "execution_count": 34,
      "outputs": []
    },
    {
      "cell_type": "code",
      "source": [
        "# Se grafican los modelos y la marca con su respectiva frecuencia\n",
        "fig, axes = plt.subplots(figsize=(20,5))\n",
        "f=sns.barplot(x=tabla10[0:10,1], y=tabla10[0:10,0])\n",
        "for pr in f.patches:\n",
        "    _x = pr.get_x() + pr.get_width() + float(0.4)\n",
        "    _y = pr.get_y() + pr.get_height()\n",
        "    value = int(pr.get_width())\n",
        "    f.text(_x, _y, value, ha=\"left\")\n",
        "f.set_title( \"Top 10 modelos más ofertados\" , size = 18 ) \n",
        "sns.set_style(\"darkgrid\")\n",
        "plt.show()"
      ],
      "metadata": {
        "colab": {
          "base_uri": "https://localhost:8080/",
          "height": 0
        },
        "id": "vRvjNCU2c6xH",
        "outputId": "8e13ff59-0793-4456-cc2d-4c682fdd6acf"
      },
      "execution_count": 35,
      "outputs": [
        {
          "output_type": "display_data",
          "data": {
            "text/plain": [
              "<Figure size 1440x360 with 1 Axes>"
            ],
            "image/png": "[encoded data removed]"
          },
          "metadata": {
            "needs_background": "light"
          }
        }
      ]
    },
    {
      "cell_type": "markdown",
      "source": [
        "El siguiente es un resumen de los modelos, con su respectiva marca y frecuencia\n",
        "\n",
        "| Marca  | Modelo           | Frecuencia |\n",
        "| -----  | -----            | ---        |\n",
        "| Toyota | Vitz             | 3320       |\n",
        "| Suzuki | Alto             | 3257       |\n",
        "| Suzuki | Wagon R Stingray | 2322       |\n",
        "| Toyota | Axio             | 2278       |\n",
        "| Toyota | Aqua             | 2213       |\n",
        "| Toyota | Premio           | 2161       |\n",
        "| Honda  | Vezel            | 2014       |\n",
        "| Nissan | Sunny            | 1895       |\n",
        "| Toyota | Prius            | 1844       |\n",
        "| Bajaj  | Re               | 1816       |\n",
        "\n",
        "Clasificando los vehículos por tipo:\n",
        "\n",
        "| Tipo  | Vehículos  | Total |\n",
        "| -----  | -----  | -----            |\n",
        "| Subcompactos  | Toyota: Vitz; Suzuki: Alto; Suzuki: Wagon R Stingray; Toyota: Aqua | 11112       |\n",
        "| Sedán | Toyota: Axio; Toyota: Premio; Nissan: Sunny; Toyota: Prius | 8178 |\n",
        "| Crossover | Honda: Vezel  | 2014       |\n",
        "| Moto | Bajaj: Re          | 1816       |\n",
        "\n",
        "De esto se podría concluir que la hipótesis es falsa, puesto que el tipo de vehículo con mayor cantidad de ofertas es el tipo subcompacto mientras que el tipo sedán es el segundo más ofertado.\n",
        "\\\n",
        "\\\n",
        "Ahora bien, puede ser que en el análisis dado no sea determinante para decir que el sedán no es el tipo de vehículo más ofertado, puesto que aun faltan cerca de 95320 registros más, pero se puede observar una tendecia, por lo que la hipótesis podría modificarse a que: \"el tipo de vehículo sedán es uno de los más ofertados\", lo cual sería una afirmación más acertada.\n",
        "\\\n",
        "\\\n",
        "Con lo anterior se podría indicar que el vehículo tipo sedán es uno de los más usados en la región de Sri Lanka."
      ],
      "metadata": {
        "id": "miDu0uHAnmbk"
      }
    },
    {
      "cell_type": "markdown",
      "source": [
        "##Recomendaciones"
      ],
      "metadata": {
        "id": "mm566IpP2KLP"
      }
    },
    {
      "cell_type": "markdown",
      "source": [
        "Como recomendaciones se pueden dar las siguientes:\n",
        "\n",
        "- Si se quiere vender o compar un vehículo los tipos subcompácto, sedán o crossover son los más usados en Sri Lanka, por lo que es conveniente revisar este tipo de vehículos.\n",
        "- Al comprar o vender un vehículo, es mejor que sea de la marca Toyota o Suzuki, puesto que son de las marcas de mayor \"confianza\" o interes en Sri Lanka.\n"
      ],
      "metadata": {
        "id": "yWnuwHfU3Q7A"
      }
    },
    {
      "cell_type": "markdown",
      "source": [
        "#Feature Selection - Resumen\n"
      ],
      "metadata": {
        "id": "aKmMuXPTFC_L"
      }
    },
    {
      "cell_type": "markdown",
      "source": [
        "Antes de proceder con el feature selection, primero se reestructura el dataset.\n",
        "\n",
        "* Como ```Location``` no es consistente, puesto que hay ubicaciones que, si bien son la misma, no estan escritas de la misma forma, por lo que puede generar ciertas complicaciones por lo que para esta ocación se ha considerado el omitirlo del dataset.\n",
        "* Para aplicar un target encode a las columnas de ```Brand``` y ```Model``` se procede a crear una columna que contenga la unión de estas dos.\n",
        "* Previamente en el gráfico de pastel del estado de los autos, en el EDA, se puede observar que el 97.5% de los autos son usados, por lo que es mejor omitirlo dado que no afectara significativamente en el algoritmo."
      ],
      "metadata": {
        "id": "9HCeAq3V0oyd"
      }
    },
    {
      "cell_type": "markdown",
      "source": [
        "Una vez reestructurado el dataset se procede a evaluar cuales columnas o variables de las restantes tienen una mayor significancia o impacto en la determinación del precio de oferta de un vehículo"
      ],
      "metadata": {
        "id": "35XBqdzUF5My"
      }
    },
    {
      "cell_type": "markdown",
      "source": [
        "Para este caso se puede observar que la columna ```Marca-Modelo``` tiene la ayor significancia a la hora de determinar el precio.\n",
        "\n",
        "Una vez hecho esto, se determina que para entrenar el modelo se seleccionarán estas 3 columnas para el dataset. \n",
        "\n",
        "Ante de proseguir se procederá a hacer una normalización de los datos\n"
      ],
      "metadata": {
        "id": "5QsAtvMOMlQz"
      }
    },
    {
      "cell_type": "code",
      "source": [
        "vehicles1"
      ],
      "metadata": {
        "colab": {
          "base_uri": "https://localhost:8080/",
          "height": 0
        },
        "id": "irX7qVEjko5W",
        "outputId": "99305f3a-6a00-4b7e-9d18-7acead4cf93e"
      },
      "execution_count": 36,
      "outputs": [
        {
          "output_type": "execute_result",
          "data": {
            "text/plain": [
              "             Price       Edition  Year     Condition  Transmission  \\\n",
              "0       12900000.0  8.310721e+06  2017  6.343023e+06  7.867140e+06   \n",
              "1       16250000.0  1.482306e+07  2013  6.343023e+06  7.867140e+06   \n",
              "2       17000000.0  7.970764e+06  2020  6.343023e+06  7.867140e+06   \n",
              "3       13000000.0  1.100885e+07  2017  6.343023e+06  7.867140e+06   \n",
              "4       33500000.0  1.059501e+07  2015  6.343023e+06  7.867140e+06   \n",
              "...            ...           ...   ...           ...           ...   \n",
              "123966   6500000.0  4.163228e+06  2012  6.343023e+06  7.867140e+06   \n",
              "123967   5850000.0  4.163228e+06  2011  9.247688e+06  2.363669e+06   \n",
              "123968    480000.0  4.163228e+06  2017  6.343023e+06  2.363669e+06   \n",
              "123969   6975000.0  4.163228e+06  2018  6.343023e+06  7.867140e+06   \n",
              "123970   2625000.0  4.163228e+06  2015  6.343023e+06  2.363669e+06   \n",
              "\n",
              "                Body          Fuel      Capacity       Mileage      Location  \\\n",
              "0       1.792283e+07  8.078657e+06  8.501474e+06  8.959310e+06  4.197390e+06   \n",
              "1       8.772342e+06  8.539066e+06  1.636105e+07  9.200867e+06  4.197390e+06   \n",
              "2       1.792283e+07  5.690901e+06  9.113068e+06  1.055596e+07  1.064187e+07   \n",
              "3       1.792283e+07  5.690901e+06  9.113068e+06  9.926973e+06  1.064187e+07   \n",
              "4       1.792283e+07  5.690901e+06  2.395681e+07  7.732163e+06  6.704853e+06   \n",
              "...              ...           ...           ...           ...           ...   \n",
              "123966  5.059449e+06  8.078657e+06  6.805618e+06  6.650046e+06  4.560452e+06   \n",
              "123967  3.435150e+06  8.539066e+06  5.509590e+06  3.326028e+06  1.064187e+07   \n",
              "123968  7.419948e+05  5.690901e+06  2.129430e+05  9.513681e+06  1.064187e+07   \n",
              "123969  5.059449e+06  5.690901e+06  4.885112e+06  9.228290e+06  3.284240e+06   \n",
              "123970  5.059449e+06  5.690901e+06  2.305086e+06  8.975561e+06  4.863313e+06   \n",
              "\n",
              "        Marca-Modelo  \n",
              "0       9.162514e+06  \n",
              "1       1.196348e+07  \n",
              "2       1.342174e+07  \n",
              "3       1.342174e+07  \n",
              "4       2.739242e+07  \n",
              "...              ...  \n",
              "123966  6.256171e+06  \n",
              "123967  6.442001e+06  \n",
              "123968  7.240974e+05  \n",
              "123969  6.474158e+06  \n",
              "123970  2.919016e+06  \n",
              "\n",
              "[118433 rows x 11 columns]"
            ],
            "text/html": [
              "\n",
              "  <div id=\"df-e0c9b2dc-f5fd-4a0c-938e-19b9a5f0e918\">\n",
              "    <div class=\"colab-df-container\">\n",
              "      <div>\n",
              "<style scoped>\n",
              "    .dataframe tbody tr th:only-of-type {\n",
              "        vertical-align: middle;\n",
              "    }\n",
              "\n",
              "    .dataframe tbody tr th {\n",
              "        vertical-align: top;\n",
              "    }\n",
              "\n",
              "    .dataframe thead th {\n",
              "        text-align: right;\n",
              "    }\n",
              "</style>\n",
              "<table border=\"1\" class=\"dataframe\">\n",
              "  <thead>\n",
              "    <tr style=\"text-align: right;\">\n",
              "      <th></th>\n",
              "      <th>Price</th>\n",
              "      <th>Edition</th>\n",
              "      <th>Year</th>\n",
              "      <th>Condition</th>\n",
              "      <th>Transmission</th>\n",
              "      <th>Body</th>\n",
              "      <th>Fuel</th>\n",
              "      <th>Capacity</th>\n",
              "      <th>Mileage</th>\n",
              "      <th>Location</th>\n",
              "      <th>Marca-Modelo</th>\n",
              "    </tr>\n",
              "  </thead>\n",
              "  <tbody>\n",
              "    <tr>\n",
              "      <th>0</th>\n",
              "      <td>12900000.0</td>\n",
              "      <td>8.310721e+06</td>\n",
              "      <td>2017</td>\n",
              "      <td>6.343023e+06</td>\n",
              "      <td>7.867140e+06</td>\n",
              "      <td>1.792283e+07</td>\n",
              "      <td>8.078657e+06</td>\n",
              "      <td>8.501474e+06</td>\n",
              "      <td>8.959310e+06</td>\n",
              "      <td>4.197390e+06</td>\n",
              "      <td>9.162514e+06</td>\n",
              "    </tr>\n",
              "    <tr>\n",
              "      <th>1</th>\n",
              "      <td>16250000.0</td>\n",
              "      <td>1.482306e+07</td>\n",
              "      <td>2013</td>\n",
              "      <td>6.343023e+06</td>\n",
              "      <td>7.867140e+06</td>\n",
              "      <td>8.772342e+06</td>\n",
              "      <td>8.539066e+06</td>\n",
              "      <td>1.636105e+07</td>\n",
              "      <td>9.200867e+06</td>\n",
              "      <td>4.197390e+06</td>\n",
              "      <td>1.196348e+07</td>\n",
              "    </tr>\n",
              "    <tr>\n",
              "      <th>2</th>\n",
              "      <td>17000000.0</td>\n",
              "      <td>7.970764e+06</td>\n",
              "      <td>2020</td>\n",
              "      <td>6.343023e+06</td>\n",
              "      <td>7.867140e+06</td>\n",
              "      <td>1.792283e+07</td>\n",
              "      <td>5.690901e+06</td>\n",
              "      <td>9.113068e+06</td>\n",
              "      <td>1.055596e+07</td>\n",
              "      <td>1.064187e+07</td>\n",
              "      <td>1.342174e+07</td>\n",
              "    </tr>\n",
              "    <tr>\n",
              "      <th>3</th>\n",
              "      <td>13000000.0</td>\n",
              "      <td>1.100885e+07</td>\n",
              "      <td>2017</td>\n",
              "      <td>6.343023e+06</td>\n",
              "      <td>7.867140e+06</td>\n",
              "      <td>1.792283e+07</td>\n",
              "      <td>5.690901e+06</td>\n",
              "      <td>9.113068e+06</td>\n",
              "      <td>9.926973e+06</td>\n",
              "      <td>1.064187e+07</td>\n",
              "      <td>1.342174e+07</td>\n",
              "    </tr>\n",
              "    <tr>\n",
              "      <th>4</th>\n",
              "      <td>33500000.0</td>\n",
              "      <td>1.059501e+07</td>\n",
              "      <td>2015</td>\n",
              "      <td>6.343023e+06</td>\n",
              "      <td>7.867140e+06</td>\n",
              "      <td>1.792283e+07</td>\n",
              "      <td>5.690901e+06</td>\n",
              "      <td>2.395681e+07</td>\n",
              "      <td>7.732163e+06</td>\n",
              "      <td>6.704853e+06</td>\n",
              "      <td>2.739242e+07</td>\n",
              "    </tr>\n",
              "    <tr>\n",
              "      <th>...</th>\n",
              "      <td>...</td>\n",
              "      <td>...</td>\n",
              "      <td>...</td>\n",
              "      <td>...</td>\n",
              "      <td>...</td>\n",
              "      <td>...</td>\n",
              "      <td>...</td>\n",
              "      <td>...</td>\n",
              "      <td>...</td>\n",
              "      <td>...</td>\n",
              "      <td>...</td>\n",
              "    </tr>\n",
              "    <tr>\n",
              "      <th>123966</th>\n",
              "      <td>6500000.0</td>\n",
              "      <td>4.163228e+06</td>\n",
              "      <td>2012</td>\n",
              "      <td>6.343023e+06</td>\n",
              "      <td>7.867140e+06</td>\n",
              "      <td>5.059449e+06</td>\n",
              "      <td>8.078657e+06</td>\n",
              "      <td>6.805618e+06</td>\n",
              "      <td>6.650046e+06</td>\n",
              "      <td>4.560452e+06</td>\n",
              "      <td>6.256171e+06</td>\n",
              "    </tr>\n",
              "    <tr>\n",
              "      <th>123967</th>\n",
              "      <td>5850000.0</td>\n",
              "      <td>4.163228e+06</td>\n",
              "      <td>2011</td>\n",
              "      <td>9.247688e+06</td>\n",
              "      <td>2.363669e+06</td>\n",
              "      <td>3.435150e+06</td>\n",
              "      <td>8.539066e+06</td>\n",
              "      <td>5.509590e+06</td>\n",
              "      <td>3.326028e+06</td>\n",
              "      <td>1.064187e+07</td>\n",
              "      <td>6.442001e+06</td>\n",
              "    </tr>\n",
              "    <tr>\n",
              "      <th>123968</th>\n",
              "      <td>480000.0</td>\n",
              "      <td>4.163228e+06</td>\n",
              "      <td>2017</td>\n",
              "      <td>6.343023e+06</td>\n",
              "      <td>2.363669e+06</td>\n",
              "      <td>7.419948e+05</td>\n",
              "      <td>5.690901e+06</td>\n",
              "      <td>2.129430e+05</td>\n",
              "      <td>9.513681e+06</td>\n",
              "      <td>1.064187e+07</td>\n",
              "      <td>7.240974e+05</td>\n",
              "    </tr>\n",
              "    <tr>\n",
              "      <th>123969</th>\n",
              "      <td>6975000.0</td>\n",
              "      <td>4.163228e+06</td>\n",
              "      <td>2018</td>\n",
              "      <td>6.343023e+06</td>\n",
              "      <td>7.867140e+06</td>\n",
              "      <td>5.059449e+06</td>\n",
              "      <td>5.690901e+06</td>\n",
              "      <td>4.885112e+06</td>\n",
              "      <td>9.228290e+06</td>\n",
              "      <td>3.284240e+06</td>\n",
              "      <td>6.474158e+06</td>\n",
              "    </tr>\n",
              "    <tr>\n",
              "      <th>123970</th>\n",
              "      <td>2625000.0</td>\n",
              "      <td>4.163228e+06</td>\n",
              "      <td>2015</td>\n",
              "      <td>6.343023e+06</td>\n",
              "      <td>2.363669e+06</td>\n",
              "      <td>5.059449e+06</td>\n",
              "      <td>5.690901e+06</td>\n",
              "      <td>2.305086e+06</td>\n",
              "      <td>8.975561e+06</td>\n",
              "      <td>4.863313e+06</td>\n",
              "      <td>2.919016e+06</td>\n",
              "    </tr>\n",
              "  </tbody>\n",
              "</table>\n",
              "<p>118433 rows × 11 columns</p>\n",
              "</div>\n",
              "      <button class=\"colab-df-convert\" onclick=\"convertToInteractive('df-e0c9b2dc-f5fd-4a0c-938e-19b9a5f0e918')\"\n",
              "              title=\"Convert this dataframe to an interactive table.\"\n",
              "              style=\"display:none;\">\n",
              "        \n",
              "  <svg xmlns=\"http://www.w3.org/2000/svg\" height=\"24px\"viewBox=\"0 0 24 24\"\n",
              "       width=\"24px\">\n",
              "    <path d=\"M0 0h24v24H0V0z\" fill=\"none\"/>\n",
              "    <path d=\"M18.56 5.44l.94 2.06.94-2.06 2.06-.94-2.06-.94-.94-2.06-.94 2.06-2.06.94zm-11 1L8.5 8.5l.94-2.06 2.06-.94-2.06-.94L8.5 2.5l-.94 2.06-2.06.94zm10 10l.94 2.06.94-2.06 2.06-.94-2.06-.94-.94-2.06-.94 2.06-2.06.94z\"/><path d=\"M17.41 7.96l-1.37-1.37c-.4-.4-.92-.59-1.43-.59-.52 0-1.04.2-1.43.59L10.3 9.45l-7.72 7.72c-.78.78-.78 2.05 0 2.83L4 21.41c.39.39.9.59 1.41.59.51 0 1.02-.2 1.41-.59l7.78-7.78 2.81-2.81c.8-.78.8-2.07 0-2.86zM5.41 20L4 18.59l7.72-7.72 1.47 1.35L5.41 20z\"/>\n",
              "  </svg>\n",
              "      </button>\n",
              "      \n",
              "  <style>\n",
              "    .colab-df-container {\n",
              "      display:flex;\n",
              "      flex-wrap:wrap;\n",
              "      gap: 12px;\n",
              "    }\n",
              "\n",
              "    .colab-df-convert {\n",
              "      background-color: #E8F0FE;\n",
              "      border: none;\n",
              "      border-radius: 50%;\n",
              "      cursor: pointer;\n",
              "      display: none;\n",
              "      fill: #1967D2;\n",
              "      height: 32px;\n",
              "      padding: 0 0 0 0;\n",
              "      width: 32px;\n",
              "    }\n",
              "\n",
              "    .colab-df-convert:hover {\n",
              "      background-color: #E2EBFA;\n",
              "      box-shadow: 0px 1px 2px rgba(60, 64, 67, 0.3), 0px 1px 3px 1px rgba(60, 64, 67, 0.15);\n",
              "      fill: #174EA6;\n",
              "    }\n",
              "\n",
              "    [theme=dark] .colab-df-convert {\n",
              "      background-color: #3B4455;\n",
              "      fill: #D2E3FC;\n",
              "    }\n",
              "\n",
              "    [theme=dark] .colab-df-convert:hover {\n",
              "      background-color: #434B5C;\n",
              "      box-shadow: 0px 1px 3px 1px rgba(0, 0, 0, 0.15);\n",
              "      filter: drop-shadow(0px 1px 2px rgba(0, 0, 0, 0.3));\n",
              "      fill: #FFFFFF;\n",
              "    }\n",
              "  </style>\n",
              "\n",
              "      <script>\n",
              "        const buttonEl =\n",
              "          document.querySelector('#df-e0c9b2dc-f5fd-4a0c-938e-19b9a5f0e918 button.colab-df-convert');\n",
              "        buttonEl.style.display =\n",
              "          google.colab.kernel.accessAllowed ? 'block' : 'none';\n",
              "\n",
              "        async function convertToInteractive(key) {\n",
              "          const element = document.querySelector('#df-e0c9b2dc-f5fd-4a0c-938e-19b9a5f0e918');\n",
              "          const dataTable =\n",
              "            await google.colab.kernel.invokeFunction('convertToInteractive',\n",
              "                                                     [key], {});\n",
              "          if (!dataTable) return;\n",
              "\n",
              "          const docLinkHtml = 'Like what you see? Visit the ' +\n",
              "            '<a target=\"_blank\" href=https://colab.research.google.com/notebooks/data_table.ipynb>data table notebook</a>'\n",
              "            + ' to learn more about interactive tables.';\n",
              "          element.innerHTML = '';\n",
              "          dataTable['output_type'] = 'display_data';\n",
              "          await google.colab.output.renderOutput(dataTable, element);\n",
              "          const docLink = document.createElement('div');\n",
              "          docLink.innerHTML = docLinkHtml;\n",
              "          element.appendChild(docLink);\n",
              "        }\n",
              "      </script>\n",
              "    </div>\n",
              "  </div>\n",
              "  "
            ]
          },
          "metadata": {},
          "execution_count": 36
        }
      ]
    },
    {
      "cell_type": "code",
      "source": [
        "from sklearn.preprocessing import scale\n",
        "from pandas import DataFrame\n",
        "\n",
        "veh = DataFrame(scale(vehicles1[[\"Price\",\"Marca-Modelo\", \"Edition\", \"Capacity\", \"Mileage\", \"Body\", \"Year\"]]), index=vehicles1[[\"Price\",\"Marca-Modelo\", \"Edition\", \"Capacity\", \"Mileage\", \"Body\", \"Year\"]].index, columns=vehicles1[[\"Price\",\"Marca-Modelo\", \"Edition\", \"Capacity\", \"Mileage\", \"Body\", \"Year\"]].columns)"
      ],
      "metadata": {
        "id": "cFkvFNVtHsEu"
      },
      "execution_count": 37,
      "outputs": []
    },
    {
      "cell_type": "markdown",
      "source": [
        "##Algoritmo y Entrenamiento"
      ],
      "metadata": {
        "id": "ihmR-7-4LiJe"
      }
    },
    {
      "cell_type": "markdown",
      "source": [
        "El algoritmo a emplear será un algoritmo de regresión lineal, dado que los datos son de tipo continuo.\n",
        "\n",
        "Primero se procede a seccionar el dataset en 2 partes, datos para entrenamiento y datos para prueba:"
      ],
      "metadata": {
        "id": "ZTzD1jnYMVoO"
      }
    },
    {
      "cell_type": "code",
      "source": [
        "x=veh.drop(['Price'], axis=1) # Contiene las variables predictivas o empleadas para determinar el precio de un vehículo\n",
        "y=veh['Price']                # Contiene la variable que se quiere predecir\n",
        "x_train,x_test,y_train,y_test=train_test_split(x,y,test_size=0.25,random_state=42) # El 75% de los datos se empleanrán para entrenar el modelo mientras que un 25% se usará para el test"
      ],
      "metadata": {
        "id": "gqbG_I9k0Ndv"
      },
      "execution_count": 38,
      "outputs": []
    },
    {
      "cell_type": "markdown",
      "source": [
        "Con la partición de los datos en estos dos conjuntos se procede a crear el modelo con el algoritmo de regresión lineal para entrenarlo  tratar de predecir los precios en base a las variables predictivas."
      ],
      "metadata": {
        "id": "X7KfIwMCNKwO"
      }
    },
    {
      "cell_type": "code",
      "source": [
        "model=LinearRegression() # Se emplea un algoritmo de regresión lineal puesto que se trabaja con valores numericos discretos\n",
        "model.fit(x_train,y_train) # Se ejecuta el modelo con los datos de entrenamiento\n",
        "y_pred = model.predict(x_test) # Resultado de precios esperados según los valores predictivos del conjunto de prueba"
      ],
      "metadata": {
        "id": "G9aLMju81G9Y"
      },
      "execution_count": 39,
      "outputs": []
    },
    {
      "cell_type": "markdown",
      "source": [
        "Con esto se ha terminado de evaluar el modelo de regresión lineal con los datos de prueba, ahora se procedera a examinar las métricas para conocer que tan bueno o acertado ha sido el modelo entrenado."
      ],
      "metadata": {
        "id": "lJQt35XdqPdF"
      }
    },
    {
      "cell_type": "markdown",
      "source": [
        "##Métricas"
      ],
      "metadata": {
        "id": "mcSx8kEfDVR8"
      }
    },
    {
      "cell_type": "markdown",
      "source": [
        "Dado que se empleo una regresión lineal se procederá a calcular:\n",
        "* MAE\n",
        "* MSE\n",
        "* RMSE \n",
        "* R<sup>2</sup>"
      ],
      "metadata": {
        "id": "86dOiflT3vCE"
      }
    },
    {
      "cell_type": "markdown",
      "source": [
        "El promedio de la diferencia absoluta es \"relativamente bajo\" dado que estamos hablando de rupias indias"
      ],
      "metadata": {
        "id": "MRmR5mo_ERpM"
      }
    },
    {
      "cell_type": "markdown",
      "source": [
        "###MAE"
      ],
      "metadata": {
        "id": "4PRaLA_H7Lja"
      }
    },
    {
      "cell_type": "code",
      "source": [
        "from sklearn.metrics import mean_absolute_error\n",
        "print(\"MAE\",mean_absolute_error(y_test,y_pred))"
      ],
      "metadata": {
        "id": "t4crr26fEFfy",
        "colab": {
          "base_uri": "https://localhost:8080/"
        },
        "outputId": "808fdb48-1131-47d8-e62b-e0b0755ab14c"
      },
      "execution_count": 40,
      "outputs": [
        {
          "output_type": "stream",
          "name": "stdout",
          "text": [
            "MAE 0.2356030305033317\n"
          ]
        }
      ]
    },
    {
      "cell_type": "markdown",
      "source": [
        "###MSE"
      ],
      "metadata": {
        "id": "a9RJrZ1Y7NCB"
      }
    },
    {
      "cell_type": "code",
      "source": [
        "from sklearn.metrics import mean_squared_error\n",
        "print(\"MSE\",mean_squared_error(y_test,y_pred))"
      ],
      "metadata": {
        "id": "bmVwpudlD67i",
        "colab": {
          "base_uri": "https://localhost:8080/"
        },
        "outputId": "dd3c9391-e7d9-4c58-94c9-d7e49c4f312c"
      },
      "execution_count": 41,
      "outputs": [
        {
          "output_type": "stream",
          "name": "stdout",
          "text": [
            "MSE 0.26295418450232555\n"
          ]
        }
      ]
    },
    {
      "cell_type": "markdown",
      "source": [
        "###RMSE"
      ],
      "metadata": {
        "id": "x-19HXS97PEJ"
      }
    },
    {
      "cell_type": "code",
      "source": [
        "print(\"RMSE\",np.sqrt(mean_squared_error(y_test,y_pred)))"
      ],
      "metadata": {
        "id": "70enHBMOD7g1",
        "colab": {
          "base_uri": "https://localhost:8080/"
        },
        "outputId": "036717be-bab0-4932-f5f7-81696aafc314"
      },
      "execution_count": 42,
      "outputs": [
        {
          "output_type": "stream",
          "name": "stdout",
          "text": [
            "RMSE 0.5127905854267661\n"
          ]
        }
      ]
    },
    {
      "cell_type": "code",
      "source": [
        "print(\"RMSE\",np.log(np.sqrt(mean_squared_error(y_test,y_pred))))"
      ],
      "metadata": {
        "id": "uH-JHXEtD-90",
        "colab": {
          "base_uri": "https://localhost:8080/"
        },
        "outputId": "7aa2ae77-b64a-4ba1-e44b-34542b857538"
      },
      "execution_count": 43,
      "outputs": [
        {
          "output_type": "stream",
          "name": "stdout",
          "text": [
            "RMSE -0.6678877326963801\n"
          ]
        }
      ]
    },
    {
      "cell_type": "markdown",
      "source": [
        "###R<sup>2</sup>"
      ],
      "metadata": {
        "id": "aiWf51cS7Rja"
      }
    },
    {
      "cell_type": "code",
      "source": [
        "from sklearn.metrics import r2_score\n",
        "r2 = r2_score(y_test,y_pred)\n",
        "print(r2)"
      ],
      "metadata": {
        "id": "OHsoJk1YEBh0",
        "colab": {
          "base_uri": "https://localhost:8080/"
        },
        "outputId": "09c1dc37-b5da-4151-e280-be0967c12078"
      },
      "execution_count": 44,
      "outputs": [
        {
          "output_type": "stream",
          "name": "stdout",
          "text": [
            "0.7272000511580752\n"
          ]
        }
      ]
    },
    {
      "cell_type": "markdown",
      "source": [
        "##Conclusiones - Evaluando modelos ML"
      ],
      "metadata": {
        "id": "MmmStVg0JbHX"
      }
    },
    {
      "cell_type": "markdown",
      "source": [
        "Como se puede observar, el modelo tiene una precisión de aproximadamente de 0.73, esto indica que el modelo ha realizado una predicción aceptable de los datos. Además que una regresión es el que mejor se ajusta para este caso por tratarse de valores continuos y no emplearse categorías en el objetivo.\n",
        "\n",
        "De las métricas se puede considerar que el modelo es en cierta forma adecuado para la predicción de los valores, pero aun hay forma de mejorar, dado que un 72.9% podría considerarse una precisión baja."
      ],
      "metadata": {
        "id": "2smEUIXR_G3_"
      }
    },
    {
      "cell_type": "markdown",
      "source": [
        "El modelo como tal no presenta problemas de overfitting, esto por el valor de precisión registrado.\n",
        "\n",
        "Pueden presentarse problemas de underfitting por el \"bajo\" grado de precisión alcanzado (si bien es alto, podría ser mejor), dada la simplicidad del modelo, deberían ajustarse mejor los parametros del modelo pero se ha conseguido un resultado más exacto dada la parte de \"Limpieza previa del Dataset\", gracias al Feature Selection."
      ],
      "metadata": {
        "id": "e1Jy22fkL2xu"
      }
    },
    {
      "cell_type": "markdown",
      "source": [
        "#Storytelling\n",
        "La venta y compra de autos es algo de interés común en la gente dado los beneficios de tener un auto así como las necesidades que a veces surgen por lo que la gente quiere vender su auto para cubrir dichas necesidades.\n",
        "\n",
        "Para iniciar hacemos constatar que la información a usar será de beneficio para la población dado que se basa en un dataset del cual el 97.5% es información sobre vehículos usados."
      ],
      "metadata": {
        "id": "n7xGarR6ed0z"
      }
    },
    {
      "cell_type": "code",
      "source": [
        "#@title\n",
        "# # Configuración de colores\n",
        "# colores = [\"#60D394\",\"#AAF683\",\"#FFD97D\"]\n",
        "# # Gráfico de pastel en base al estado del vehículo\n",
        "# fig, ax = plt.subplots(figsize=(8,8))\n",
        "# ax.pie(vehicles['Condition'].value_counts(),labels=vehicles['Condition'].unique(),autopct=\"%0.1f %%\", colors=colores)\n",
        "# ax.set_title( \"Condición del vehículo\" , size = 18 ) \n",
        "# plt.show()\n",
        "# Configuración de colores\n",
        "# colores = [\"#60D394\",\"#AAF683\",\"#FFD97D\"]\n",
        "colores = ['#99ff99','#66b3ff','#ff9999']#,'#ffcc99']\n",
        "# Gráfico de pastel en base al estado del vehículo\n",
        "fig, ax = plt.subplots(figsize=(8,8))\n",
        "ax.pie(vehicles['Condition'].value_counts(),labels=vehicles['Condition'].unique(),autopct=\"%0.1f %%\",pctdistance=0.85,colors=colores)\n",
        "ax.set_title( \"Condición del vehículo\" , size = 18 ) \n",
        "#draw circle\n",
        "centre_circle = plt.Circle((0,0),0.70,fc='white')\n",
        "fig = plt.gcf()\n",
        "fig.gca().add_artist(centre_circle)\n",
        "plt.show()"
      ],
      "metadata": {
        "colab": {
          "base_uri": "https://localhost:8080/",
          "height": 486
        },
        "id": "FJkXiAtknYW8",
        "outputId": "25d89b37-1994-4287-f4c0-0a3901cf0a3f",
        "cellView": "form"
      },
      "execution_count": 45,
      "outputs": [
        {
          "output_type": "display_data",
          "data": {
            "text/plain": [
              "<Figure size 576x576 with 1 Axes>"
            ],
            "image/png": "[encoded data removed]"
          },
          "metadata": {}
        }
      ]
    },
    {
      "cell_type": "markdown",
      "source": [
        "##Top Marcas más solicitadas"
      ],
      "metadata": {
        "id": "JPka_eobj-B5"
      }
    },
    {
      "cell_type": "markdown",
      "source": [
        "En Sri Lanka hay una grán influencia por parte de ciertas marcas, entre ellas se puede observar que entre las márcas más usadas (o vendidas) es la marca toyota.\n",
        "\n",
        "A continuación se presenta el top 10 de las marcas con mayor registro en el sitio:"
      ],
      "metadata": {
        "id": "i0Qn_G_mtN17"
      }
    },
    {
      "cell_type": "code",
      "source": [
        "#@title\n",
        "# Se grafican las 10 marcas con mayor frecuencia registrada en un gráfico de barras\n",
        "fig, ax = plt.subplots(figsize=(15,10))\n",
        "ax.bar(tabla[0:10,0],tabla[0:10,1])  # Como la tabla esta en orden descendente se toman los 10 primeros elementos para graficar en la tabla obteniendo así el Top 10\n",
        "for i in range(10):\n",
        "  ax.text(i, tabla[i,1],tabla[i,1], ha = 'center') # Se indican las frecuencias en la gráfica\n",
        "ax.set_ylabel( \"Frecuencia\" , size = 13 ) \n",
        "ax.set_title( \"Top 10 marcas más registradas\" , size = 18 ) \n",
        "plt.show()"
      ],
      "metadata": {
        "colab": {
          "base_uri": "https://localhost:8080/",
          "height": 612
        },
        "cellView": "form",
        "id": "C8vP5mQZsbUL",
        "outputId": "3e253c5a-6f58-46a1-e99c-dd61886e35a3"
      },
      "execution_count": 46,
      "outputs": [
        {
          "output_type": "display_data",
          "data": {
            "text/plain": [
              "<Figure size 1080x720 with 1 Axes>"
            ],
            "image/png": "[encoded data removed]"
          },
          "metadata": {}
        }
      ]
    },
    {
      "cell_type": "markdown",
      "source": [
        "La marca toyota parece ser la predilecta por parte de los habitantes de Sri Lanka, siendo poco probable que sufra un desplazamiento; o al menos eso pareciera con este análisis, pero observemos la frecuencia de las marcas por año"
      ],
      "metadata": {
        "id": "Qv2T3Do7yM8q"
      }
    },
    {
      "cell_type": "code",
      "source": [
        "#@title\n",
        "Marc=vehicles[['Year','Brand']]\n",
        "Marc['Year Range'] = Marc['Year'].map(rango)"
      ],
      "metadata": {
        "cellView": "form",
        "id": "NEhOY-tqw8xQ"
      },
      "execution_count": null,
      "outputs": []
    },
    {
      "cell_type": "code",
      "source": [
        "#@title\n",
        "(tipo, cantidad) = np.unique(Marc['Brand'][Marc['Year Range']==\"2000-2005\"], return_counts=True)\n",
        "Marca1 = np.column_stack((tipo, cantidad))\n",
        "Marca1 =pd. DataFrame(Marca1, columns=['Marca', 'Frecuencia'])\n",
        "Marca1 = Marca1.sort_values(['Frecuencia'], ascending = False).reset_index(drop=True)\n",
        "Marca1.style.set_caption('2000-2005')\n",
        "Marca1.head(10).style.background_gradient(cmap='Reds', subset = ['Frecuencia']).set_caption('2000-2005')"
      ],
      "metadata": {
        "colab": {
          "base_uri": "https://localhost:8080/",
          "height": 380
        },
        "cellView": "form",
        "id": "pgaFkVfHz9Ie",
        "outputId": "2ba282b2-9554-401c-dfef-7efa55fef894"
      },
      "execution_count": 48,
      "outputs": [
        {
          "output_type": "execute_result",
          "data": {
            "text/plain": [
              "<pandas.io.formats.style.Styler at 0x7fc64a0da940>"
            ],
            "text/html": [
              "<style type=\"text/css\">\n",
              "#T_d118c_row0_col1 {\n",
              "  background-color: #67000d;\n",
              "  color: #f1f1f1;\n",
              "}\n",
              "#T_d118c_row1_col1 {\n",
              "  background-color: #bd151a;\n",
              "  color: #f1f1f1;\n",
              "}\n",
              "#T_d118c_row2_col1 {\n",
              "  background-color: #fc8161;\n",
              "  color: #f1f1f1;\n",
              "}\n",
              "#T_d118c_row3_col1 {\n",
              "  background-color: #fdd5c4;\n",
              "  color: #000000;\n",
              "}\n",
              "#T_d118c_row4_col1 {\n",
              "  background-color: #fdd7c6;\n",
              "  color: #000000;\n",
              "}\n",
              "#T_d118c_row5_col1 {\n",
              "  background-color: #fed8c7;\n",
              "  color: #000000;\n",
              "}\n",
              "#T_d118c_row6_col1 {\n",
              "  background-color: #ffebe2;\n",
              "  color: #000000;\n",
              "}\n",
              "#T_d118c_row7_col1 {\n",
              "  background-color: #ffece3;\n",
              "  color: #000000;\n",
              "}\n",
              "#T_d118c_row8_col1 {\n",
              "  background-color: #fff4ee;\n",
              "  color: #000000;\n",
              "}\n",
              "#T_d118c_row9_col1 {\n",
              "  background-color: #fff5f0;\n",
              "  color: #000000;\n",
              "}\n",
              "</style>\n",
              "<table id=\"T_d118c\" class=\"dataframe\">\n",
              "  <caption>2000-2005</caption>\n",
              "  <thead>\n",
              "    <tr>\n",
              "      <th class=\"blank level0\" >&nbsp;</th>\n",
              "      <th id=\"T_d118c_level0_col0\" class=\"col_heading level0 col0\" >Marca</th>\n",
              "      <th id=\"T_d118c_level0_col1\" class=\"col_heading level0 col1\" >Frecuencia</th>\n",
              "    </tr>\n",
              "  </thead>\n",
              "  <tbody>\n",
              "    <tr>\n",
              "      <th id=\"T_d118c_level0_row0\" class=\"row_heading level0 row0\" >0</th>\n",
              "      <td id=\"T_d118c_row0_col0\" class=\"data row0 col0\" >Toyota</td>\n",
              "      <td id=\"T_d118c_row0_col1\" class=\"data row0 col1\" >8125</td>\n",
              "    </tr>\n",
              "    <tr>\n",
              "      <th id=\"T_d118c_level0_row1\" class=\"row_heading level0 row1\" >1</th>\n",
              "      <td id=\"T_d118c_row1_col0\" class=\"data row1 col0\" >Nissan</td>\n",
              "      <td id=\"T_d118c_row1_col1\" class=\"data row1 col1\" >6576</td>\n",
              "    </tr>\n",
              "    <tr>\n",
              "      <th id=\"T_d118c_level0_row2\" class=\"row_heading level0 row2\" >2</th>\n",
              "      <td id=\"T_d118c_row2_col0\" class=\"data row2 col0\" >Mitsubishi</td>\n",
              "      <td id=\"T_d118c_row2_col1\" class=\"data row2 col1\" >3798</td>\n",
              "    </tr>\n",
              "    <tr>\n",
              "      <th id=\"T_d118c_level0_row3\" class=\"row_heading level0 row3\" >3</th>\n",
              "      <td id=\"T_d118c_row3_col0\" class=\"data row3 col0\" >Suzuki</td>\n",
              "      <td id=\"T_d118c_row3_col1\" class=\"data row3 col1\" >1799</td>\n",
              "    </tr>\n",
              "    <tr>\n",
              "      <th id=\"T_d118c_level0_row4\" class=\"row_heading level0 row4\" >4</th>\n",
              "      <td id=\"T_d118c_row4_col0\" class=\"data row4 col0\" >Bajaj</td>\n",
              "      <td id=\"T_d118c_row4_col1\" class=\"data row4 col1\" >1751</td>\n",
              "    </tr>\n",
              "    <tr>\n",
              "      <th id=\"T_d118c_level0_row5\" class=\"row_heading level0 row5\" >5</th>\n",
              "      <td id=\"T_d118c_row5_col0\" class=\"data row5 col0\" >Honda</td>\n",
              "      <td id=\"T_d118c_row5_col1\" class=\"data row5 col1\" >1732</td>\n",
              "    </tr>\n",
              "    <tr>\n",
              "      <th id=\"T_d118c_level0_row6\" class=\"row_heading level0 row6\" >6</th>\n",
              "      <td id=\"T_d118c_row6_col0\" class=\"data row6 col0\" >Mazda</td>\n",
              "      <td id=\"T_d118c_row6_col1\" class=\"data row6 col1\" >1030</td>\n",
              "    </tr>\n",
              "    <tr>\n",
              "      <th id=\"T_d118c_level0_row7\" class=\"row_heading level0 row7\" >7</th>\n",
              "      <td id=\"T_d118c_row7_col0\" class=\"data row7 col0\" >Isuzu</td>\n",
              "      <td id=\"T_d118c_row7_col1\" class=\"data row7 col1\" >986</td>\n",
              "    </tr>\n",
              "    <tr>\n",
              "      <th id=\"T_d118c_level0_row8\" class=\"row_heading level0 row8\" >8</th>\n",
              "      <td id=\"T_d118c_row8_col0\" class=\"data row8 col0\" >Hyundai</td>\n",
              "      <td id=\"T_d118c_row8_col1\" class=\"data row8 col1\" >633</td>\n",
              "    </tr>\n",
              "    <tr>\n",
              "      <th id=\"T_d118c_level0_row9\" class=\"row_heading level0 row9\" >9</th>\n",
              "      <td id=\"T_d118c_row9_col0\" class=\"data row9 col0\" >Daihatsu</td>\n",
              "      <td id=\"T_d118c_row9_col1\" class=\"data row9 col1\" >568</td>\n",
              "    </tr>\n",
              "  </tbody>\n",
              "</table>\n"
            ]
          },
          "metadata": {},
          "execution_count": 48
        }
      ]
    },
    {
      "cell_type": "code",
      "source": [
        "#@title\n",
        "(tipo, cantidad) = np.unique(Marc['Brand'][Marc['Year Range']==\"2006-2011\"], return_counts=True)\n",
        "Marca2 = np.column_stack((tipo, cantidad))\n",
        "Marca2 =pd. DataFrame(Marca2, columns=['Marca', 'Frecuencia'])\n",
        "Marca2 = Marca2.sort_values(['Frecuencia'], ascending = False).reset_index(drop=True)\n",
        "Marca2.head(10).style.background_gradient(cmap='Reds', subset = ['Frecuencia']).set_caption('2006-2011')"
      ],
      "metadata": {
        "colab": {
          "base_uri": "https://localhost:8080/",
          "height": 380
        },
        "cellView": "form",
        "id": "AXB1p23Qz98j",
        "outputId": "6c9f223f-90ec-4e48-c1ce-95bacdc2a978"
      },
      "execution_count": 49,
      "outputs": [
        {
          "output_type": "execute_result",
          "data": {
            "text/plain": [
              "<pandas.io.formats.style.Styler at 0x7fc64ce73880>"
            ],
            "text/html": [
              "<style type=\"text/css\">\n",
              "#T_e0fc0_row0_col1 {\n",
              "  background-color: #67000d;\n",
              "  color: #f1f1f1;\n",
              "}\n",
              "#T_e0fc0_row1_col1 {\n",
              "  background-color: #fc8262;\n",
              "  color: #f1f1f1;\n",
              "}\n",
              "#T_e0fc0_row2_col1 {\n",
              "  background-color: #fca183;\n",
              "  color: #000000;\n",
              "}\n",
              "#T_e0fc0_row3_col1 {\n",
              "  background-color: #fedfd0;\n",
              "  color: #000000;\n",
              "}\n",
              "#T_e0fc0_row4_col1 {\n",
              "  background-color: #fee5d9;\n",
              "  color: #000000;\n",
              "}\n",
              "#T_e0fc0_row5_col1 {\n",
              "  background-color: #feeae1;\n",
              "  color: #000000;\n",
              "}\n",
              "#T_e0fc0_row6_col1 {\n",
              "  background-color: #ffece3;\n",
              "  color: #000000;\n",
              "}\n",
              "#T_e0fc0_row7_col1, #T_e0fc0_row8_col1 {\n",
              "  background-color: #fff2ec;\n",
              "  color: #000000;\n",
              "}\n",
              "#T_e0fc0_row9_col1 {\n",
              "  background-color: #fff5f0;\n",
              "  color: #000000;\n",
              "}\n",
              "</style>\n",
              "<table id=\"T_e0fc0\" class=\"dataframe\">\n",
              "  <caption>2006-2011</caption>\n",
              "  <thead>\n",
              "    <tr>\n",
              "      <th class=\"blank level0\" >&nbsp;</th>\n",
              "      <th id=\"T_e0fc0_level0_col0\" class=\"col_heading level0 col0\" >Marca</th>\n",
              "      <th id=\"T_e0fc0_level0_col1\" class=\"col_heading level0 col1\" >Frecuencia</th>\n",
              "    </tr>\n",
              "  </thead>\n",
              "  <tbody>\n",
              "    <tr>\n",
              "      <th id=\"T_e0fc0_level0_row0\" class=\"row_heading level0 row0\" >0</th>\n",
              "      <td id=\"T_e0fc0_row0_col0\" class=\"data row0 col0\" >Toyota</td>\n",
              "      <td id=\"T_e0fc0_row0_col1\" class=\"data row0 col1\" >6261</td>\n",
              "    </tr>\n",
              "    <tr>\n",
              "      <th id=\"T_e0fc0_level0_row1\" class=\"row_heading level0 row1\" >1</th>\n",
              "      <td id=\"T_e0fc0_row1_col0\" class=\"data row1 col0\" >Bajaj</td>\n",
              "      <td id=\"T_e0fc0_row1_col1\" class=\"data row1 col1\" >2893</td>\n",
              "    </tr>\n",
              "    <tr>\n",
              "      <th id=\"T_e0fc0_level0_row2\" class=\"row_heading level0 row2\" >2</th>\n",
              "      <td id=\"T_e0fc0_row2_col0\" class=\"data row2 col0\" >Suzuki</td>\n",
              "      <td id=\"T_e0fc0_row2_col1\" class=\"data row2 col1\" >2335</td>\n",
              "    </tr>\n",
              "    <tr>\n",
              "      <th id=\"T_e0fc0_level0_row3\" class=\"row_heading level0 row3\" >3</th>\n",
              "      <td id=\"T_e0fc0_row3_col0\" class=\"data row3 col0\" >Honda</td>\n",
              "      <td id=\"T_e0fc0_row3_col1\" class=\"data row3 col1\" >1175</td>\n",
              "    </tr>\n",
              "    <tr>\n",
              "      <th id=\"T_e0fc0_level0_row4\" class=\"row_heading level0 row4\" >4</th>\n",
              "      <td id=\"T_e0fc0_row4_col0\" class=\"data row4 col0\" >Nissan</td>\n",
              "      <td id=\"T_e0fc0_row4_col1\" class=\"data row4 col1\" >972</td>\n",
              "    </tr>\n",
              "    <tr>\n",
              "      <th id=\"T_e0fc0_level0_row5\" class=\"row_heading level0 row5\" >5</th>\n",
              "      <td id=\"T_e0fc0_row5_col0\" class=\"data row5 col0\" >Mitsubishi</td>\n",
              "      <td id=\"T_e0fc0_row5_col1\" class=\"data row5 col1\" >775</td>\n",
              "    </tr>\n",
              "    <tr>\n",
              "      <th id=\"T_e0fc0_level0_row6\" class=\"row_heading level0 row6\" >6</th>\n",
              "      <td id=\"T_e0fc0_row6_col0\" class=\"data row6 col0\" >Tata</td>\n",
              "      <td id=\"T_e0fc0_row6_col1\" class=\"data row6 col1\" >735</td>\n",
              "    </tr>\n",
              "    <tr>\n",
              "      <th id=\"T_e0fc0_level0_row7\" class=\"row_heading level0 row7\" >7</th>\n",
              "      <td id=\"T_e0fc0_row7_col0\" class=\"data row7 col0\" >TVS</td>\n",
              "      <td id=\"T_e0fc0_row7_col1\" class=\"data row7 col1\" >502</td>\n",
              "    </tr>\n",
              "    <tr>\n",
              "      <th id=\"T_e0fc0_level0_row8\" class=\"row_heading level0 row8\" >8</th>\n",
              "      <td id=\"T_e0fc0_row8_col0\" class=\"data row8 col0\" >Micro</td>\n",
              "      <td id=\"T_e0fc0_row8_col1\" class=\"data row8 col1\" >500</td>\n",
              "    </tr>\n",
              "    <tr>\n",
              "      <th id=\"T_e0fc0_level0_row9\" class=\"row_heading level0 row9\" >9</th>\n",
              "      <td id=\"T_e0fc0_row9_col0\" class=\"data row9 col0\" >Perodua</td>\n",
              "      <td id=\"T_e0fc0_row9_col1\" class=\"data row9 col1\" >408</td>\n",
              "    </tr>\n",
              "  </tbody>\n",
              "</table>\n"
            ]
          },
          "metadata": {},
          "execution_count": 49
        }
      ]
    },
    {
      "cell_type": "code",
      "source": [
        "#@title\n",
        "(tipo, cantidad) = np.unique(Marc['Brand'][Marc['Year Range']==\"2012-2017\"], return_counts=True)\n",
        "Marca3 = np.column_stack((tipo, cantidad))\n",
        "Marca3 =pd. DataFrame(Marca3, columns=['Marca', 'Frecuencia'])\n",
        "Marca3 = Marca3.sort_values(['Frecuencia'], ascending = False).reset_index(drop=True)\n",
        "Marca3.head(10).style.background_gradient(cmap='Reds', subset = ['Frecuencia']).set_caption('2012-2017')"
      ],
      "metadata": {
        "colab": {
          "base_uri": "https://localhost:8080/",
          "height": 380
        },
        "cellView": "form",
        "id": "3G3Ef_fSz-dr",
        "outputId": "dfdcad52-be1a-46ff-c97b-d4bab132ad4b"
      },
      "execution_count": 50,
      "outputs": [
        {
          "output_type": "execute_result",
          "data": {
            "text/plain": [
              "<pandas.io.formats.style.Styler at 0x7fc6495e3790>"
            ],
            "text/html": [
              "<style type=\"text/css\">\n",
              "#T_00239_row0_col1 {\n",
              "  background-color: #67000d;\n",
              "  color: #f1f1f1;\n",
              "}\n",
              "#T_00239_row1_col1 {\n",
              "  background-color: #c4161c;\n",
              "  color: #f1f1f1;\n",
              "}\n",
              "#T_00239_row2_col1 {\n",
              "  background-color: #f96245;\n",
              "  color: #f1f1f1;\n",
              "}\n",
              "#T_00239_row3_col1 {\n",
              "  background-color: #fcc4ad;\n",
              "  color: #000000;\n",
              "}\n",
              "#T_00239_row4_col1 {\n",
              "  background-color: #ffede5;\n",
              "  color: #000000;\n",
              "}\n",
              "#T_00239_row5_col1 {\n",
              "  background-color: #ffeee6;\n",
              "  color: #000000;\n",
              "}\n",
              "#T_00239_row6_col1 {\n",
              "  background-color: #ffeee7;\n",
              "  color: #000000;\n",
              "}\n",
              "#T_00239_row7_col1 {\n",
              "  background-color: #ffefe8;\n",
              "  color: #000000;\n",
              "}\n",
              "#T_00239_row8_col1 {\n",
              "  background-color: #fff1ea;\n",
              "  color: #000000;\n",
              "}\n",
              "#T_00239_row9_col1 {\n",
              "  background-color: #fff5f0;\n",
              "  color: #000000;\n",
              "}\n",
              "</style>\n",
              "<table id=\"T_00239\" class=\"dataframe\">\n",
              "  <caption>2012-2017</caption>\n",
              "  <thead>\n",
              "    <tr>\n",
              "      <th class=\"blank level0\" >&nbsp;</th>\n",
              "      <th id=\"T_00239_level0_col0\" class=\"col_heading level0 col0\" >Marca</th>\n",
              "      <th id=\"T_00239_level0_col1\" class=\"col_heading level0 col1\" >Frecuencia</th>\n",
              "    </tr>\n",
              "  </thead>\n",
              "  <tbody>\n",
              "    <tr>\n",
              "      <th id=\"T_00239_level0_row0\" class=\"row_heading level0 row0\" >0</th>\n",
              "      <td id=\"T_00239_row0_col0\" class=\"data row0 col0\" >Toyota</td>\n",
              "      <td id=\"T_00239_row0_col1\" class=\"data row0 col1\" >12283</td>\n",
              "    </tr>\n",
              "    <tr>\n",
              "      <th id=\"T_00239_level0_row1\" class=\"row_heading level0 row1\" >1</th>\n",
              "      <td id=\"T_00239_row1_col0\" class=\"data row1 col0\" >Suzuki</td>\n",
              "      <td id=\"T_00239_row1_col1\" class=\"data row1 col1\" >9683</td>\n",
              "    </tr>\n",
              "    <tr>\n",
              "      <th id=\"T_00239_level0_row2\" class=\"row_heading level0 row2\" >2</th>\n",
              "      <td id=\"T_00239_row2_col0\" class=\"data row2 col0\" >Honda</td>\n",
              "      <td id=\"T_00239_row2_col1\" class=\"data row2 col1\" >6834</td>\n",
              "    </tr>\n",
              "    <tr>\n",
              "      <th id=\"T_00239_level0_row3\" class=\"row_heading level0 row3\" >3</th>\n",
              "      <td id=\"T_00239_row3_col0\" class=\"data row3 col0\" >Bajaj</td>\n",
              "      <td id=\"T_00239_row3_col1\" class=\"data row3 col1\" >3432</td>\n",
              "    </tr>\n",
              "    <tr>\n",
              "      <th id=\"T_00239_level0_row4\" class=\"row_heading level0 row4\" >4</th>\n",
              "      <td id=\"T_00239_row4_col0\" class=\"data row4 col0\" >Micro</td>\n",
              "      <td id=\"T_00239_row4_col1\" class=\"data row4 col1\" >1483</td>\n",
              "    </tr>\n",
              "    <tr>\n",
              "      <th id=\"T_00239_level0_row5\" class=\"row_heading level0 row5\" >5</th>\n",
              "      <td id=\"T_00239_row5_col0\" class=\"data row5 col0\" >Nissan</td>\n",
              "      <td id=\"T_00239_row5_col1\" class=\"data row5 col1\" >1440</td>\n",
              "    </tr>\n",
              "    <tr>\n",
              "      <th id=\"T_00239_level0_row6\" class=\"row_heading level0 row6\" >6</th>\n",
              "      <td id=\"T_00239_row6_col0\" class=\"data row6 col0\" >Mitsubishi</td>\n",
              "      <td id=\"T_00239_row6_col1\" class=\"data row6 col1\" >1392</td>\n",
              "    </tr>\n",
              "    <tr>\n",
              "      <th id=\"T_00239_level0_row7\" class=\"row_heading level0 row7\" >7</th>\n",
              "      <td id=\"T_00239_row7_col0\" class=\"data row7 col0\" >BMW</td>\n",
              "      <td id=\"T_00239_row7_col1\" class=\"data row7 col1\" >1357</td>\n",
              "    </tr>\n",
              "    <tr>\n",
              "      <th id=\"T_00239_level0_row8\" class=\"row_heading level0 row8\" >8</th>\n",
              "      <td id=\"T_00239_row8_col0\" class=\"data row8 col0\" >Tata</td>\n",
              "      <td id=\"T_00239_row8_col1\" class=\"data row8 col1\" >1217</td>\n",
              "    </tr>\n",
              "    <tr>\n",
              "      <th id=\"T_00239_level0_row9\" class=\"row_heading level0 row9\" >9</th>\n",
              "      <td id=\"T_00239_row9_col0\" class=\"data row9 col0\" >Mercedes Benz</td>\n",
              "      <td id=\"T_00239_row9_col1\" class=\"data row9 col1\" >919</td>\n",
              "    </tr>\n",
              "  </tbody>\n",
              "</table>\n"
            ]
          },
          "metadata": {},
          "execution_count": 50
        }
      ]
    },
    {
      "cell_type": "code",
      "source": [
        "#@title\n",
        "(tipo, cantidad) = np.unique(Marc['Brand'][Marc['Year Range']==\"2018-2022\"], return_counts=True)\n",
        "Marca4 = np.column_stack((tipo, cantidad))\n",
        "Marca4 =pd. DataFrame(Marca4, columns=['Rango - Marca', 'Frecuencia'])\n",
        "Marca4 = Marca4.sort_values(['Frecuencia'], ascending = False).reset_index(drop=True)\n",
        "Marca4.head(10).style.background_gradient(cmap='Reds', subset = ['Frecuencia']).set_caption('2018-2022')"
      ],
      "metadata": {
        "colab": {
          "base_uri": "https://localhost:8080/",
          "height": 380
        },
        "cellView": "form",
        "id": "AbdKsX-pz_g7",
        "outputId": "a8611094-53fa-479d-b480-6cbf425af288"
      },
      "execution_count": 51,
      "outputs": [
        {
          "output_type": "execute_result",
          "data": {
            "text/plain": [
              "<pandas.io.formats.style.Styler at 0x7fc64ce73190>"
            ],
            "text/html": [
              "<style type=\"text/css\">\n",
              "#T_2a1f9_row0_col1 {\n",
              "  background-color: #67000d;\n",
              "  color: #f1f1f1;\n",
              "}\n",
              "#T_2a1f9_row1_col1 {\n",
              "  background-color: #9d0d14;\n",
              "  color: #f1f1f1;\n",
              "}\n",
              "#T_2a1f9_row2_col1 {\n",
              "  background-color: #f24633;\n",
              "  color: #f1f1f1;\n",
              "}\n",
              "#T_2a1f9_row3_col1 {\n",
              "  background-color: #fedaca;\n",
              "  color: #000000;\n",
              "}\n",
              "#T_2a1f9_row4_col1 {\n",
              "  background-color: #fee7db;\n",
              "  color: #000000;\n",
              "}\n",
              "#T_2a1f9_row5_col1 {\n",
              "  background-color: #feeae0;\n",
              "  color: #000000;\n",
              "}\n",
              "#T_2a1f9_row6_col1 {\n",
              "  background-color: #fff2eb;\n",
              "  color: #000000;\n",
              "}\n",
              "#T_2a1f9_row7_col1 {\n",
              "  background-color: #fff4ee;\n",
              "  color: #000000;\n",
              "}\n",
              "#T_2a1f9_row8_col1 {\n",
              "  background-color: #fff4ef;\n",
              "  color: #000000;\n",
              "}\n",
              "#T_2a1f9_row9_col1 {\n",
              "  background-color: #fff5f0;\n",
              "  color: #000000;\n",
              "}\n",
              "</style>\n",
              "<table id=\"T_2a1f9\" class=\"dataframe\">\n",
              "  <caption>2018-2022</caption>\n",
              "  <thead>\n",
              "    <tr>\n",
              "      <th class=\"blank level0\" >&nbsp;</th>\n",
              "      <th id=\"T_2a1f9_level0_col0\" class=\"col_heading level0 col0\" >Rango - Marca</th>\n",
              "      <th id=\"T_2a1f9_level0_col1\" class=\"col_heading level0 col1\" >Frecuencia</th>\n",
              "    </tr>\n",
              "  </thead>\n",
              "  <tbody>\n",
              "    <tr>\n",
              "      <th id=\"T_2a1f9_level0_row0\" class=\"row_heading level0 row0\" >0</th>\n",
              "      <td id=\"T_2a1f9_row0_col0\" class=\"data row0 col0\" >Toyota</td>\n",
              "      <td id=\"T_2a1f9_row0_col1\" class=\"data row0 col1\" >3553</td>\n",
              "    </tr>\n",
              "    <tr>\n",
              "      <th id=\"T_2a1f9_level0_row1\" class=\"row_heading level0 row1\" >1</th>\n",
              "      <td id=\"T_2a1f9_row1_col0\" class=\"data row1 col0\" >Suzuki</td>\n",
              "      <td id=\"T_2a1f9_row1_col1\" class=\"data row1 col1\" >3209</td>\n",
              "    </tr>\n",
              "    <tr>\n",
              "      <th id=\"T_2a1f9_level0_row2\" class=\"row_heading level0 row2\" >2</th>\n",
              "      <td id=\"T_2a1f9_row2_col0\" class=\"data row2 col0\" >Honda</td>\n",
              "      <td id=\"T_2a1f9_row2_col1\" class=\"data row2 col1\" >2311</td>\n",
              "    </tr>\n",
              "    <tr>\n",
              "      <th id=\"T_2a1f9_level0_row3\" class=\"row_heading level0 row3\" >3</th>\n",
              "      <td id=\"T_2a1f9_row3_col0\" class=\"data row3 col0\" >Yamaha</td>\n",
              "      <td id=\"T_2a1f9_row3_col1\" class=\"data row3 col1\" >920</td>\n",
              "    </tr>\n",
              "    <tr>\n",
              "      <th id=\"T_2a1f9_level0_row4\" class=\"row_heading level0 row4\" >4</th>\n",
              "      <td id=\"T_2a1f9_row4_col0\" class=\"data row4 col0\" >Mercedes Benz</td>\n",
              "      <td id=\"T_2a1f9_row4_col1\" class=\"data row4 col1\" >737</td>\n",
              "    </tr>\n",
              "    <tr>\n",
              "      <th id=\"T_2a1f9_level0_row5\" class=\"row_heading level0 row5\" >5</th>\n",
              "      <td id=\"T_2a1f9_row5_col0\" class=\"data row5 col0\" >Bajaj</td>\n",
              "      <td id=\"T_2a1f9_row5_col1\" class=\"data row5 col1\" >676</td>\n",
              "    </tr>\n",
              "    <tr>\n",
              "      <th id=\"T_2a1f9_level0_row6\" class=\"row_heading level0 row6\" >6</th>\n",
              "      <td id=\"T_2a1f9_row6_col0\" class=\"data row6 col0\" >Land Rover</td>\n",
              "      <td id=\"T_2a1f9_row6_col1\" class=\"data row6 col1\" >536</td>\n",
              "    </tr>\n",
              "    <tr>\n",
              "      <th id=\"T_2a1f9_level0_row7\" class=\"row_heading level0 row7\" >7</th>\n",
              "      <td id=\"T_2a1f9_row7_col0\" class=\"data row7 col0\" >Audi</td>\n",
              "      <td id=\"T_2a1f9_row7_col1\" class=\"data row7 col1\" >500</td>\n",
              "    </tr>\n",
              "    <tr>\n",
              "      <th id=\"T_2a1f9_level0_row8\" class=\"row_heading level0 row8\" >8</th>\n",
              "      <td id=\"T_2a1f9_row8_col0\" class=\"data row8 col0\" >TVS</td>\n",
              "      <td id=\"T_2a1f9_row8_col1\" class=\"data row8 col1\" >490</td>\n",
              "    </tr>\n",
              "    <tr>\n",
              "      <th id=\"T_2a1f9_level0_row9\" class=\"row_heading level0 row9\" >9</th>\n",
              "      <td id=\"T_2a1f9_row9_col0\" class=\"data row9 col0\" >BMW</td>\n",
              "      <td id=\"T_2a1f9_row9_col1\" class=\"data row9 col1\" >467</td>\n",
              "    </tr>\n",
              "  </tbody>\n",
              "</table>\n"
            ]
          },
          "metadata": {},
          "execution_count": 51
        }
      ]
    },
    {
      "cell_type": "markdown",
      "source": [
        "Observando las tablas puede concluirse que la marca Toyota puede llegar a ser desplazada.\n",
        "\n",
        "La marca Suzuki a incrementado su prominencia dentro del mercado de Sri Lanka, llegando a desplazar marcas como Nissan y Honda en años previos y posiblemente a Toyota en un futuro cercano dado que la diferencia entre ellos se ha reducido considerablemente con el paso de los años."
      ],
      "metadata": {
        "id": "fov4H2pP2v-m"
      }
    },
    {
      "cell_type": "markdown",
      "source": [
        "##¿Qué regiones poseen mayor oferta de vehículos?"
      ],
      "metadata": {
        "id": "A4cKgKVXkEVp"
      }
    },
    {
      "cell_type": "markdown",
      "source": [
        "En el año de 2021 el distrito de Colombo demostró ser la región con mayor actividad comercial dentro del sitio en la venta de vehículos usados.\n",
        "\n",
        "Esta claro poder decir que el distrito de Colombo es uno en el que hay mayor uso o necesidad de un vehículo para el transporte.\n",
        "\n",
        "Puesto que hay una mayor cantidad de ofertas registradas en este distrito indica que hay una mayor cantidad de usuarios de automoviles en esta región."
      ],
      "metadata": {
        "id": "Nhuor6MkrQnS"
      }
    },
    {
      "cell_type": "code",
      "source": [
        "#@title\n",
        "Regiones=vehicles['Location']\n",
        "(tipo, cantidad) = np.unique(Regiones, return_counts=True)\n",
        "Regiones = np.column_stack((tipo, cantidad))\n",
        "Region=pd. DataFrame(Regiones, columns=['Distritos', 'Frecuencia'])\n",
        "Region = Region.sort_values(['Frecuencia'], ascending = False).reset_index(drop=True)\n",
        "Region.head(10).style.background_gradient(cmap='Blues', subset = ['Frecuencia'])"
      ],
      "metadata": {
        "colab": {
          "base_uri": "https://localhost:8080/",
          "height": 363
        },
        "cellView": "form",
        "id": "QgP8xjBppErP",
        "outputId": "18c750a5-c2d6-446e-ae2e-f739cf1d686e"
      },
      "execution_count": 52,
      "outputs": [
        {
          "output_type": "execute_result",
          "data": {
            "text/plain": [
              "<pandas.io.formats.style.Styler at 0x7fc649af0d30>"
            ],
            "text/html": [
              "<style type=\"text/css\">\n",
              "#T_96c9b_row0_col1 {\n",
              "  background-color: #08306b;\n",
              "  color: #f1f1f1;\n",
              "}\n",
              "#T_96c9b_row1_col1 {\n",
              "  background-color: #92c4de;\n",
              "  color: #000000;\n",
              "}\n",
              "#T_96c9b_row2_col1 {\n",
              "  background-color: #d7e6f5;\n",
              "  color: #000000;\n",
              "}\n",
              "#T_96c9b_row3_col1 {\n",
              "  background-color: #dce9f6;\n",
              "  color: #000000;\n",
              "}\n",
              "#T_96c9b_row4_col1 {\n",
              "  background-color: #e7f1fa;\n",
              "  color: #000000;\n",
              "}\n",
              "#T_96c9b_row5_col1, #T_96c9b_row6_col1 {\n",
              "  background-color: #eaf3fb;\n",
              "  color: #000000;\n",
              "}\n",
              "#T_96c9b_row7_col1 {\n",
              "  background-color: #f3f8fe;\n",
              "  color: #000000;\n",
              "}\n",
              "#T_96c9b_row8_col1 {\n",
              "  background-color: #f6faff;\n",
              "  color: #000000;\n",
              "}\n",
              "#T_96c9b_row9_col1 {\n",
              "  background-color: #f7fbff;\n",
              "  color: #000000;\n",
              "}\n",
              "</style>\n",
              "<table id=\"T_96c9b\" class=\"dataframe\">\n",
              "  <thead>\n",
              "    <tr>\n",
              "      <th class=\"blank level0\" >&nbsp;</th>\n",
              "      <th id=\"T_96c9b_level0_col0\" class=\"col_heading level0 col0\" >Distritos</th>\n",
              "      <th id=\"T_96c9b_level0_col1\" class=\"col_heading level0 col1\" >Frecuencia</th>\n",
              "    </tr>\n",
              "  </thead>\n",
              "  <tbody>\n",
              "    <tr>\n",
              "      <th id=\"T_96c9b_level0_row0\" class=\"row_heading level0 row0\" >0</th>\n",
              "      <td id=\"T_96c9b_row0_col0\" class=\"data row0 col0\" >Colombo</td>\n",
              "      <td id=\"T_96c9b_row0_col1\" class=\"data row0 col1\" >35944</td>\n",
              "    </tr>\n",
              "    <tr>\n",
              "      <th id=\"T_96c9b_level0_row1\" class=\"row_heading level0 row1\" >1</th>\n",
              "      <td id=\"T_96c9b_row1_col0\" class=\"data row1 col0\" >Gampaha</td>\n",
              "      <td id=\"T_96c9b_row1_col1\" class=\"data row1 col1\" >15507</td>\n",
              "    </tr>\n",
              "    <tr>\n",
              "      <th id=\"T_96c9b_level0_row2\" class=\"row_heading level0 row2\" >2</th>\n",
              "      <td id=\"T_96c9b_row2_col0\" class=\"data row2 col0\" >Kurunegala</td>\n",
              "      <td id=\"T_96c9b_row2_col1\" class=\"data row2 col1\" >7210</td>\n",
              "    </tr>\n",
              "    <tr>\n",
              "      <th id=\"T_96c9b_level0_row3\" class=\"row_heading level0 row3\" >3</th>\n",
              "      <td id=\"T_96c9b_row3_col0\" class=\"data row3 col0\" >Kandy</td>\n",
              "      <td id=\"T_96c9b_row3_col1\" class=\"data row3 col1\" >6518</td>\n",
              "    </tr>\n",
              "    <tr>\n",
              "      <th id=\"T_96c9b_level0_row4\" class=\"row_heading level0 row4\" >4</th>\n",
              "      <td id=\"T_96c9b_row4_col0\" class=\"data row4 col0\" >Matara</td>\n",
              "      <td id=\"T_96c9b_row4_col1\" class=\"data row4 col1\" >4508</td>\n",
              "    </tr>\n",
              "    <tr>\n",
              "      <th id=\"T_96c9b_level0_row5\" class=\"row_heading level0 row5\" >5</th>\n",
              "      <td id=\"T_96c9b_row5_col0\" class=\"data row5 col0\" >Kalutara</td>\n",
              "      <td id=\"T_96c9b_row5_col1\" class=\"data row5 col1\" >3887</td>\n",
              "    </tr>\n",
              "    <tr>\n",
              "      <th id=\"T_96c9b_level0_row6\" class=\"row_heading level0 row6\" >6</th>\n",
              "      <td id=\"T_96c9b_row6_col0\" class=\"data row6 col0\" >Galle</td>\n",
              "      <td id=\"T_96c9b_row6_col1\" class=\"data row6 col1\" >3879</td>\n",
              "    </tr>\n",
              "    <tr>\n",
              "      <th id=\"T_96c9b_level0_row7\" class=\"row_heading level0 row7\" >7</th>\n",
              "      <td id=\"T_96c9b_row7_col0\" class=\"data row7 col0\" >Kegalle</td>\n",
              "      <td id=\"T_96c9b_row7_col1\" class=\"data row7 col1\" >2438</td>\n",
              "    </tr>\n",
              "    <tr>\n",
              "      <th id=\"T_96c9b_level0_row8\" class=\"row_heading level0 row8\" >8</th>\n",
              "      <td id=\"T_96c9b_row8_col0\" class=\"data row8 col0\" >Ratnapura</td>\n",
              "      <td id=\"T_96c9b_row8_col1\" class=\"data row8 col1\" >1951</td>\n",
              "    </tr>\n",
              "    <tr>\n",
              "      <th id=\"T_96c9b_level0_row9\" class=\"row_heading level0 row9\" >9</th>\n",
              "      <td id=\"T_96c9b_row9_col0\" class=\"data row9 col0\" >Puttalam</td>\n",
              "      <td id=\"T_96c9b_row9_col1\" class=\"data row9 col1\" >1718</td>\n",
              "    </tr>\n",
              "  </tbody>\n",
              "</table>\n"
            ]
          },
          "metadata": {},
          "execution_count": 52
        }
      ]
    },
    {
      "cell_type": "markdown",
      "source": [
        "##¿Qué tipos de vehículos son los más vendidos?"
      ],
      "metadata": {
        "id": "B-GTEfrg6TNy"
      }
    },
    {
      "cell_type": "code",
      "source": [
        "#@title\n",
        "Tipos = pd.concat([vehicles['Brand'],vehicles['Model']], axis=1)\n",
        "Tipos['Union']=Tipos['Brand'].str.cat(' : '+Tipos['Model'])\n",
        "(tipo, numero) = np.unique(Tipos['Union'], return_counts=True)\n",
        "tabla10 = np.column_stack((tipo, numero))\n",
        "tabla10 = tabla10[tabla10[:, 1].argsort()[::-1]]\n",
        "fig, axes = plt.subplots(figsize=(20,5))\n",
        "f=sns.barplot(x=tabla10[0:10,1], y=tabla10[0:10,0],palette=\"Purples\")\n",
        "for pr in f.patches:\n",
        "    _x = pr.get_x() + pr.get_width() + float(0.4)\n",
        "    _y = pr.get_y() + pr.get_height()\n",
        "    value = int(pr.get_width())\n",
        "    f.text(_x, _y, value, ha=\"left\")\n",
        "f.set_title( \"Top 10 modelos más ofertados\" , size = 18 ) \n",
        "plt.show()"
      ],
      "metadata": {
        "colab": {
          "base_uri": "https://localhost:8080/",
          "height": 340
        },
        "cellView": "form",
        "id": "rpcbX9xk6S0a",
        "outputId": "24d80d70-ff8e-406f-8d28-a3c949df0510"
      },
      "execution_count": 53,
      "outputs": [
        {
          "output_type": "display_data",
          "data": {
            "text/plain": [
              "<Figure size 1440x360 with 1 Axes>"
            ],
            "image/png": "[encoded data removed]"
          },
          "metadata": {}
        }
      ]
    },
    {
      "cell_type": "markdown",
      "source": [
        "Entre los modelos que que más se venden se puede observar que todos ellos son de tipo subcompacto, lo cual es razonable en algunos casos por el precio accesible que poseen.\n",
        "\n",
        "| Tipo  | Vehículos  | Total |\n",
        "| -----  | -----  | -----            |\n",
        "| Subcompactos  | Toyota: Vitz; Suzuki: Alto; Suzuki: Wagon R Stingray; Toyota: Aqua | 11112       |\n",
        "| Sedán | Toyota: Axio; Toyota: Premio; Nissan: Sunny; Toyota: Prius | 8178 |\n",
        "| Crossover | Honda: Vezel  | 2014       |\n",
        "| Moto | Bajaj: Re          | 1816       |"
      ],
      "metadata": {
        "id": "SYXuiwEN-GxZ"
      }
    },
    {
      "cell_type": "markdown",
      "source": [
        "##Top 5 Modelos de las marcas más vendidas"
      ],
      "metadata": {
        "id": "QI5JQbcZ-Uzv"
      }
    },
    {
      "cell_type": "markdown",
      "source": [
        "Con Toyota siendo la marca más vendida en todos estos años observemos qué modelo ha sido el más ofertado o que la gente a preferido"
      ],
      "metadata": {
        "id": "aSPcsAMc9l-G"
      }
    },
    {
      "cell_type": "code",
      "source": [
        "#@title\n",
        "Modelos=vehicles[vehicles['Brand']=='Toyota']['Model']\n",
        "(modelo, cantidad) = np.unique(Modelos, return_counts=True)\n",
        "tabla2 = np.column_stack((modelo, cantidad))\n",
        "tabla2 = tabla2[tabla2[:, 1].argsort()[::-1]]\n",
        "fig, axes = plt.subplots(figsize=(20,5))\n",
        "p=sns.barplot(x=tabla2[0:5,1], y=tabla2[0:5,0],palette=\"Reds\")\n",
        "for pr in p.patches:\n",
        "    _x = pr.get_x() + pr.get_width() + float(0.4)\n",
        "    _y = pr.get_y() + pr.get_height()\n",
        "    value = int(pr.get_width())\n",
        "    p.text(_x, _y, value, ha=\"left\")\n",
        "p.set_title( \"Top 5 modelos de Toyota más ofertados\" , size = 18 ) \n",
        "plt.show()"
      ],
      "metadata": {
        "colab": {
          "base_uri": "https://localhost:8080/",
          "height": 340
        },
        "cellView": "form",
        "id": "BQH2Uqjp-2tA",
        "outputId": "8f6f002d-4469-469e-899c-e09c7ce77f2d"
      },
      "execution_count": 54,
      "outputs": [
        {
          "output_type": "display_data",
          "data": {
            "text/plain": [
              "<Figure size 1440x360 with 1 Axes>"
            ],
            "image/png": "[encoded data removed]"
          },
          "metadata": {}
        }
      ]
    },
    {
      "cell_type": "markdown",
      "source": [
        "Entre los modelos más vendidos por Toyota se pueden observar una gran cantidad de vehículos tipo sedan, esto puede ser un indicio de porqué en los últimos años las ventas de vehículos de toyota han disminuido y las de Suzuki han aumentado.\n",
        "\n",
        "Observando el Top 5 de la marca Suzuki:"
      ],
      "metadata": {
        "id": "GIYBBFNn_GGA"
      }
    },
    {
      "cell_type": "code",
      "source": [
        "#@title\n",
        "Modelos=vehicles[vehicles['Brand']=='Suzuki']['Model']\n",
        "(modelo, cantidad) = np.unique(Modelos, return_counts=True)\n",
        "tabla2 = np.column_stack((modelo, cantidad))\n",
        "tabla2 = tabla2[tabla2[:, 1].argsort()[::-1]]\n",
        "cols = ['grey' if (x < max(tabla2[:, 1])) else 'darkorange' for x in tabla2[:, 1]]\n",
        "fig, axes = plt.subplots(figsize=(20,5))\n",
        "p=sns.barplot(x=tabla2[0:5,1], y=tabla2[0:5,0],palette=\"Blues\")\n",
        "for pr in p.patches:\n",
        "    _x = pr.get_x() + pr.get_width() + float(0.4)\n",
        "    _y = pr.get_y() + pr.get_height()\n",
        "    value = int(pr.get_width())\n",
        "    p.text(_x, _y, value, ha=\"left\")\n",
        "p.set_title( \"Top 5 modelos de Suzuki más ofertados\" , size = 18 ) \n",
        "plt.show()"
      ],
      "metadata": {
        "colab": {
          "base_uri": "https://localhost:8080/",
          "height": 340
        },
        "cellView": "form",
        "id": "-VxfqYEtAD5B",
        "outputId": "8caf1505-3585-4d60-d8f6-84cac8492926"
      },
      "execution_count": 55,
      "outputs": [
        {
          "output_type": "display_data",
          "data": {
            "text/plain": [
              "<Figure size 1440x360 with 1 Axes>"
            ],
            "image/png": "[encoded data removed]"
          },
          "metadata": {}
        }
      ]
    },
    {
      "cell_type": "markdown",
      "source": [
        "La marca Suzuki concuerda en que el top 5 está conformado por varios vehículos tipo subcompacto.\n",
        "\n",
        "Se puede llegar a pensar que en Sri Lanka se relaciona más un vehículo tipo sedán con la marca Toyota y un vehículo tipo subcompacto con la marca Suzuki, por lo que al haber un mayor flujo en el mercado de vehículos tipo subcompacto se ha llegado a una mayor inclinación por la marca Suzuki en el transcurso de los años."
      ],
      "metadata": {
        "id": "2yJCWwJiArXz"
      }
    },
    {
      "cell_type": "markdown",
      "source": [
        "##¿Qué precios de son manejados entre los vehículos ofertados?"
      ],
      "metadata": {
        "id": "GXnBmuS_6fwi"
      }
    },
    {
      "cell_type": "markdown",
      "source": [
        "Se puede corroborar que entre más reciente el vehículo mayor será el precio al que se pueda vender.\n",
        "\n",
        "Esto se puede ver en el valor promedio del precio de rupias por año."
      ],
      "metadata": {
        "id": "1LVpYnzn7Twr"
      }
    },
    {
      "cell_type": "code",
      "source": [
        "#@title\n",
        "Year_Price=vehicles.copy()\n",
        "Year_Price=Year_Price.drop(Year_Price[Year_Price['Year']<2000].index)\n",
        "Year_Price['Year Range'] = Year_Price['Year'].map(rango)\n",
        "fig, ax = plt.subplots(figsize=(27,16))\n",
        "box_plot=sns.boxplot(data=Year_Price, x=\"Year Range\", y=\"Price\", order=[\"2000-2005\",\"2006-2011\",\"2012-2017\",\"2018-2022\"],dodge=False,medianprops={\"color\": \"coral\"},boxprops={\"facecolor\": (.4, .6, .8, .5)})#,notch=True)\n",
        "categories = ax.get_xticks()\n",
        "lines = ax.get_lines()\n",
        "for cat in categories:\n",
        "    y = round(lines[4+cat*6].get_ydata()[0],1) \n",
        "    ax.text(cat, y, f'{y}', ha='center', va='center', fontweight='bold', size=10,color='white',bbox=dict(facecolor='#445A64'))\n",
        "box_plot.set_title( \"Gráfico de cajas Precio / Año (Medias agregadas)\" , size = 18 ) \n",
        "ax.set(ylim=(0, 40000000))\n",
        "ax.set_xlabel(\"Años por Rango\",fontsize = 18)\n",
        "ax.set_ylabel(\"Precios\",fontsize = 18)\n",
        "plt.show()"
      ],
      "metadata": {
        "colab": {
          "base_uri": "https://localhost:8080/",
          "height": 863
        },
        "cellView": "form",
        "id": "FxIUbP_26fi9",
        "outputId": "d7468404-cebf-443f-8dd4-197786e0f986"
      },
      "execution_count": 56,
      "outputs": [
        {
          "output_type": "display_data",
          "data": {
            "text/plain": [
              "<Figure size 1944x1152 with 1 Axes>"
            ],
            "image/png": "[encoded data removed]"
          },
          "metadata": {}
        }
      ]
    },
    {
      "cell_type": "markdown",
      "source": [
        "Insights\n",
        "\n",
        "* Entre las regiones de mayor movimiento comercial está el distrito de Colombo.\n",
        "* Toyota y Suzuki son marcas que a través de los años han sido de gran impacto  dentro del mercado de Sri Lanka.\n",
        "* Suzuki es una marca más orientada a distribución de vehículos tipo subcompactos en Sri Lanka por lo que ha recibido un notable crecimiento en los últimos años.\n",
        "* Entre más reciente reciente el vehículo mayor será el precio de oferta, pero * puede que sea más complicado realizar la transacción\n",
        "\n",
        "Recomendaciones\n",
        "* Si se quiere ofertar un vehículo es mejor que sea en regiones como Colombo o Gampaha dado que poseen mayor actividad comercial lo cual genera una mayor probabilidad de éxito en la venta.\n",
        "* Para la compra o venta de vehículos debe considerarse de tipo subcompacto y sedán pues son los más usados en Sri Lanka.\n",
        "* Entre las marcas de vehículos las más confiables son Toyota y Suzuki, por ello deben considerarse como prioridad estas marcas.\n",
        "\n"
      ],
      "metadata": {
        "id": "XYEhssrJxc-f"
      }
    }
  ]
}